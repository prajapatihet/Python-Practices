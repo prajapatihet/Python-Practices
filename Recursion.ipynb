{
  "nbformat": 4,
  "nbformat_minor": 0,
  "metadata": {
    "colab": {
      "provenance": [],
      "authorship_tag": "ABX9TyOlYKEevbyWQIpLwerqW6s7",
      "include_colab_link": true
    },
    "kernelspec": {
      "name": "python3",
      "display_name": "Python 3"
    },
    "language_info": {
      "name": "python"
    }
  },
  "cells": [
    {
      "cell_type": "markdown",
      "metadata": {
        "id": "view-in-github",
        "colab_type": "text"
      },
      "source": [
        "<a href=\"https://colab.research.google.com/github/prajapatihet/Python-Practices/blob/main/Recursion.ipynb\" target=\"_parent\"><img src=\"https://colab.research.google.com/assets/colab-badge.svg\" alt=\"Open In Colab\"/></a>"
      ]
    },
    {
      "cell_type": "code",
      "source": [
        "def intLen(n):\n",
        "    l=0\n",
        "    if n<0:\n",
        "        n=n*(-1)\n",
        "    while n:\n",
        "        n=n//10\n",
        "        l=l+1\n",
        "    return l"
      ],
      "metadata": {
        "id": "U9Aly9qd7xjW"
      },
      "execution_count": null,
      "outputs": []
    },
    {
      "cell_type": "code",
      "execution_count": null,
      "metadata": {
        "id": "zusunZPxbBcc"
      },
      "outputs": [],
      "source": [
        "def printDe(n):\n",
        "    if n:\n",
        "        if n:\n",
        "            print(n,end=\" \")\n",
        "            if n:\n",
        "                printDe(n-1)\n",
        "                print(n,end=\" \")\n",
        "            printDe(n-1)\n",
        "        print(n,end=\" \")"
      ]
    },
    {
      "cell_type": "code",
      "source": [
        "printDe(4)"
      ],
      "metadata": {
        "colab": {
          "base_uri": "https://localhost:8080/"
        },
        "id": "JvFN4InEbZSm",
        "outputId": "034fc1ee-8870-4e5d-ccaf-f5da8b79b517"
      },
      "execution_count": null,
      "outputs": [
        {
          "output_type": "stream",
          "name": "stdout",
          "text": [
            "4 3 2 1 1 1 2 1 1 1 2 3 2 1 1 1 2 1 1 1 2 3 4 3 2 1 1 1 2 1 1 1 2 3 2 1 1 1 2 1 1 1 2 3 4 "
          ]
        }
      ]
    },
    {
      "cell_type": "code",
      "source": [
        "def insert(arr, ele, index=0):\n",
        "    if index == len(ele):\n",
        "        return\n",
        "    arr.append(ele[index])\n",
        "\n",
        "    insert(arr, ele, index + 1)"
      ],
      "metadata": {
        "id": "CQSkvvKLkqnA"
      },
      "execution_count": null,
      "outputs": []
    },
    {
      "cell_type": "code",
      "source": [
        "array = []\n",
        "insert(array, [1, 2, 3, 4, 5])\n",
        "print(array)"
      ],
      "metadata": {
        "colab": {
          "base_uri": "https://localhost:8080/"
        },
        "id": "MuxY3f7vkuvV",
        "outputId": "11aaefa0-8782-4b6a-fef7-52233d73c186"
      },
      "execution_count": null,
      "outputs": [
        {
          "output_type": "stream",
          "name": "stdout",
          "text": [
            "[1, 2, 3, 4, 5]\n"
          ]
        }
      ]
    },
    {
      "cell_type": "code",
      "source": [
        "def size(arr):\n",
        "    count=0\n",
        "    for i in arr:\n",
        "        count+=1\n",
        "    return count"
      ],
      "metadata": {
        "id": "K_Nm5i8ExC_U"
      },
      "execution_count": null,
      "outputs": []
    },
    {
      "cell_type": "code",
      "source": [
        "size([1,2,5,4,5,6,5])"
      ],
      "metadata": {
        "colab": {
          "base_uri": "https://localhost:8080/"
        },
        "id": "CGId7viL2Vls",
        "outputId": "3bd026c6-2982-4090-b589-6dcdce02a105"
      },
      "execution_count": null,
      "outputs": [
        {
          "output_type": "execute_result",
          "data": {
            "text/plain": [
              "7"
            ]
          },
          "metadata": {},
          "execution_count": 16
        }
      ]
    },
    {
      "cell_type": "code",
      "source": [
        "def read(arr):\n",
        "    for i in arr:\n",
        "        print(i,end=\" \")"
      ],
      "metadata": {
        "id": "B4_bnJWa2YV3"
      },
      "execution_count": null,
      "outputs": []
    },
    {
      "cell_type": "code",
      "source": [
        "read([1,5,3,45,7,4])"
      ],
      "metadata": {
        "colab": {
          "base_uri": "https://localhost:8080/"
        },
        "id": "AizA2Hpt2lbm",
        "outputId": "365c19ab-e1cf-4fb9-e23c-d51c3b792242"
      },
      "execution_count": null,
      "outputs": [
        {
          "output_type": "stream",
          "name": "stdout",
          "text": [
            "1 5 3 45 7 4 "
          ]
        }
      ]
    },
    {
      "cell_type": "code",
      "source": [
        "def reverse(arr):\n",
        "    print(arr[::-1])\n"
      ],
      "metadata": {
        "id": "YNB1BfIb2pEy"
      },
      "execution_count": null,
      "outputs": []
    },
    {
      "cell_type": "code",
      "source": [
        "reverse([1,2,3,4,5])"
      ],
      "metadata": {
        "colab": {
          "base_uri": "https://localhost:8080/"
        },
        "id": "WLegctDF3FLg",
        "outputId": "6207f602-2c7f-4f9a-94fb-8881e4f8d39a"
      },
      "execution_count": null,
      "outputs": [
        {
          "output_type": "stream",
          "name": "stdout",
          "text": [
            "[5, 4, 3, 2, 1]\n"
          ]
        }
      ]
    },
    {
      "cell_type": "code",
      "source": [
        "def isPalindrome(n,temp=0):\n",
        "    if(n==0):\n",
        "        return temp\n",
        "\n",
        "    temp = (temp*10)+(n%10)\n",
        "    return isPalindrome(n//10,temp)\n"
      ],
      "metadata": {
        "id": "zRnJXFac3JRi"
      },
      "execution_count": null,
      "outputs": []
    },
    {
      "cell_type": "code",
      "source": [
        "num = int(input())\n",
        "temp = isPalindrome(num)\n",
        "if num==temp:\n",
        "    print(\"Palindrome\")\n",
        "else:\n",
        "    print(\"Not a Palindrome\")"
      ],
      "metadata": {
        "colab": {
          "base_uri": "https://localhost:8080/"
        },
        "id": "z0xyT8qH5SbR",
        "outputId": "5aca3acb-8435-49b5-9f8d-407e43d02f91"
      },
      "execution_count": null,
      "outputs": [
        {
          "output_type": "stream",
          "name": "stdout",
          "text": [
            "123454321\n",
            "Palindrome\n"
          ]
        }
      ]
    },
    {
      "cell_type": "code",
      "source": [
        "def reverseString(s):\n",
        "    if len(s) == 0:\n",
        "        return\n",
        "\n",
        "    temp = s[0]\n",
        "    reverseString(s[1:])\n",
        "    print(temp, end='')"
      ],
      "metadata": {
        "id": "yNj2DvSY5ZXK"
      },
      "execution_count": null,
      "outputs": []
    },
    {
      "cell_type": "code",
      "source": [
        "reverseString(\"hello\")"
      ],
      "metadata": {
        "colab": {
          "base_uri": "https://localhost:8080/"
        },
        "id": "5416qfbnBS5u",
        "outputId": "9bb9b707-e71e-429d-920e-4314c7458609"
      },
      "execution_count": null,
      "outputs": [
        {
          "output_type": "stream",
          "name": "stdout",
          "text": [
            "olleh"
          ]
        }
      ]
    },
    {
      "cell_type": "code",
      "source": [
        "def atoi(string,num=0):\n",
        "    if string.isalpha():\n",
        "        return False\n",
        "    if len(string)==0:\n",
        "        return False\n",
        "    if len(string)==1:\n",
        "        return int(string)+(num*10)\n",
        "\n",
        "    num = int(string[0:1])+(num*10)\n",
        "\n",
        "    return atoi(string[1:],num)"
      ],
      "metadata": {
        "id": "ok_r_cq3BVaY"
      },
      "execution_count": null,
      "outputs": []
    },
    {
      "cell_type": "code",
      "source": [
        "atoi(\"123\")"
      ],
      "metadata": {
        "colab": {
          "base_uri": "https://localhost:8080/"
        },
        "id": "h8QPVqXqIgQU",
        "outputId": "d891c932-3acc-4b03-ac36-e04c75e848c2"
      },
      "execution_count": null,
      "outputs": [
        {
          "output_type": "execute_result",
          "data": {
            "text/plain": [
              "123"
            ]
          },
          "metadata": {},
          "execution_count": 41
        }
      ]
    },
    {
      "cell_type": "code",
      "source": [
        "def copy_string(x, y):\n",
        "    if len(y) == 0:\n",
        "        return x\n",
        "    else:\n",
        "        c = copy_string(x, (y)[1:-1])\n",
        "        return c"
      ],
      "metadata": {
        "id": "Mkj1ZK8kIikt"
      },
      "execution_count": null,
      "outputs": []
    },
    {
      "cell_type": "code",
      "source": [
        "str1 = input()\n",
        "str2 = input()\n",
        "copy_string(str1,str2)"
      ],
      "metadata": {
        "colab": {
          "base_uri": "https://localhost:8080/",
          "height": 70
        },
        "id": "6vLRq7E_Klzu",
        "outputId": "89b23a46-9366-4d61-cf57-457b5f173e99"
      },
      "execution_count": null,
      "outputs": [
        {
          "name": "stdout",
          "output_type": "stream",
          "text": [
            "i am het\n",
            "het\n"
          ]
        },
        {
          "output_type": "execute_result",
          "data": {
            "text/plain": [
              "'i am het'"
            ],
            "application/vnd.google.colaboratory.intrinsic+json": {
              "type": "string"
            }
          },
          "metadata": {},
          "execution_count": 48
        }
      ]
    },
    {
      "cell_type": "code",
      "source": [
        "def countDigit(n,count=0):\n",
        "    if n:\n",
        "        n = n//10\n",
        "        count+=1\n",
        "        return countDigit(n,count)\n",
        "    return count"
      ],
      "metadata": {
        "id": "ffnWhEJaKv4n"
      },
      "execution_count": null,
      "outputs": []
    },
    {
      "cell_type": "code",
      "source": [
        "countDigit(12346789)"
      ],
      "metadata": {
        "colab": {
          "base_uri": "https://localhost:8080/"
        },
        "id": "mF5Jnb82NgzI",
        "outputId": "4d80391f-2368-43a8-8a79-10be1c1ea3a9"
      },
      "execution_count": null,
      "outputs": [
        {
          "output_type": "execute_result",
          "data": {
            "text/plain": [
              "8"
            ]
          },
          "metadata": {},
          "execution_count": 58
        }
      ]
    },
    {
      "cell_type": "code",
      "source": [
        "def lenString(n,count=0):\n",
        "    if n!='':\n",
        "        n=n[1:]\n",
        "        count+=1\n",
        "        return lenString(n,count)\n",
        "    return count"
      ],
      "metadata": {
        "id": "i2Vmpk5RNja1"
      },
      "execution_count": null,
      "outputs": []
    },
    {
      "cell_type": "code",
      "source": [
        "lenString(\"ab cd\")"
      ],
      "metadata": {
        "colab": {
          "base_uri": "https://localhost:8080/"
        },
        "id": "-a7BveW4PQbZ",
        "outputId": "59afaa0a-3e83-4e60-98d0-375f97bc6d48"
      },
      "execution_count": null,
      "outputs": [
        {
          "output_type": "execute_result",
          "data": {
            "text/plain": [
              "5"
            ]
          },
          "metadata": {},
          "execution_count": 77
        }
      ]
    },
    {
      "cell_type": "code",
      "source": [
        "def fibo(n):\n",
        "   if n <= 1:\n",
        "       return n\n",
        "   else:\n",
        "       return(fibo(n-1) + fibo(n-2))\n"
      ],
      "metadata": {
        "id": "pUwwZ5rOPTFA"
      },
      "execution_count": null,
      "outputs": []
    },
    {
      "cell_type": "code",
      "source": [
        "for i in range(10):\n",
        "    print(fibo(i),end=\" \")"
      ],
      "metadata": {
        "colab": {
          "base_uri": "https://localhost:8080/"
        },
        "id": "xy7_ThzhW9z3",
        "outputId": "74e31867-8bf9-48f2-f027-1375e42e69fe"
      },
      "execution_count": null,
      "outputs": [
        {
          "output_type": "stream",
          "name": "stdout",
          "text": [
            "0 1 1 2 3 5 8 13 21 34 "
          ]
        }
      ]
    },
    {
      "cell_type": "code",
      "source": [
        "def sumOfDigit(n,sum=0):\n",
        "    if n:\n",
        "        temp=n%10\n",
        "        sum=sum+temp\n",
        "        return sumOfDigit(n//10,sum)\n",
        "    return sum"
      ],
      "metadata": {
        "id": "yP_wa8KSXRNY"
      },
      "execution_count": null,
      "outputs": []
    },
    {
      "cell_type": "code",
      "source": [
        "sumOfDigit(123)"
      ],
      "metadata": {
        "colab": {
          "base_uri": "https://localhost:8080/"
        },
        "id": "DYPss7fneFjH",
        "outputId": "cf34da06-4595-4a73-e030-605eb52f09b4"
      },
      "execution_count": null,
      "outputs": [
        {
          "output_type": "execute_result",
          "data": {
            "text/plain": [
              "6"
            ]
          },
          "metadata": {},
          "execution_count": 79
        }
      ]
    },
    {
      "cell_type": "code",
      "source": [
        "def tower_of_hanoi(n, source, target, auxiliary):\n",
        "    if n > 0:\n",
        "        tower_of_hanoi(n-1, source, auxiliary, target)\n",
        "\n",
        "        print(f\"disk {n} ({source} --> {target})\")\n",
        "\n",
        "        tower_of_hanoi(n-1, auxiliary, target, source)\n",
        "\n",
        "tower_of_hanoi(3, 1, 2, 3)\n"
      ],
      "metadata": {
        "colab": {
          "base_uri": "https://localhost:8080/"
        },
        "id": "vub6s_STeHZd",
        "outputId": "8b48b0e1-0385-4a60-aa24-95188d511ce7"
      },
      "execution_count": null,
      "outputs": [
        {
          "output_type": "stream",
          "name": "stdout",
          "text": [
            "disk 1 (1 --> 2)\n",
            "disk 2 (1 --> 3)\n",
            "disk 1 (2 --> 3)\n",
            "disk 3 (1 --> 2)\n",
            "disk 1 (3 --> 1)\n",
            "disk 2 (3 --> 2)\n",
            "disk 1 (1 --> 2)\n"
          ]
        }
      ]
    },
    {
      "cell_type": "code",
      "source": [
        "def arr_insert(n, arr, position=0):\n",
        "    if n < 1:\n",
        "        return arr\n",
        "    arr_insert(n - 1, arr, position)\n",
        "    arr.insert(len(arr) - position, n)\n",
        "    return arr"
      ],
      "metadata": {
        "id": "nJb7LvsbnG8k"
      },
      "execution_count": null,
      "outputs": []
    },
    {
      "cell_type": "code",
      "source": [
        "arr_insert(5,[])"
      ],
      "metadata": {
        "colab": {
          "base_uri": "https://localhost:8080/"
        },
        "id": "FpPfHTl0Lh3b",
        "outputId": "d108fc9d-8be4-4c76-8d37-eee55895a5ed"
      },
      "execution_count": null,
      "outputs": [
        {
          "output_type": "execute_result",
          "data": {
            "text/plain": [
              "[1, 2, 3, 4, 5]"
            ]
          },
          "metadata": {},
          "execution_count": 29
        }
      ]
    },
    {
      "cell_type": "code",
      "source": [
        "def array_size(arr, index=0):\n",
        "    if index == len(arr):\n",
        "        return 0\n",
        "    return 1 + array_size(arr, index + 1)"
      ],
      "metadata": {
        "id": "nGoMOi4aOTuh"
      },
      "execution_count": null,
      "outputs": []
    },
    {
      "cell_type": "code",
      "source": [
        "array_size([1,2,3,4,5])"
      ],
      "metadata": {
        "colab": {
          "base_uri": "https://localhost:8080/"
        },
        "id": "62Tm4T1BTDrS",
        "outputId": "71d41575-d547-4e5b-efcf-08e993f34146"
      },
      "execution_count": null,
      "outputs": [
        {
          "output_type": "execute_result",
          "data": {
            "text/plain": [
              "5"
            ]
          },
          "metadata": {},
          "execution_count": 33
        }
      ]
    },
    {
      "cell_type": "code",
      "source": [
        "def print_reverse_array(arr, index=None):\n",
        "    if index is None:\n",
        "        index = len(arr) - 1\n",
        "\n",
        "    if index >= 0:\n",
        "        print(arr[index], end=\" \")\n",
        "        print_reverse_array(arr, index - 1)"
      ],
      "metadata": {
        "id": "_vNe-qbQTJN8"
      },
      "execution_count": null,
      "outputs": []
    },
    {
      "cell_type": "code",
      "source": [
        "print_reverse_array([1, 2, 3, 4, 5])"
      ],
      "metadata": {
        "colab": {
          "base_uri": "https://localhost:8080/"
        },
        "id": "RGfVIHBSbz1h",
        "outputId": "d8288e0e-199f-4db4-8ea6-f8f6dc5d3e59"
      },
      "execution_count": null,
      "outputs": [
        {
          "output_type": "stream",
          "name": "stdout",
          "text": [
            "5 4 3 2 1 "
          ]
        }
      ]
    },
    {
      "cell_type": "code",
      "source": [
        "def firstElement(arr,element,index=-1):\n",
        "    if index > -len(arr):\n",
        "        if arr[index] == element:\n",
        "            return index+len(arr)\n",
        "        else:\n",
        "            return firstElement(arr, element, index-1)\n",
        "    else:\n",
        "        return False"
      ],
      "metadata": {
        "id": "tv4l-2sbcRHF"
      },
      "execution_count": null,
      "outputs": []
    },
    {
      "cell_type": "code",
      "source": [
        "firstElement([1,2,3,4,5,3,5,3],8)"
      ],
      "metadata": {
        "colab": {
          "base_uri": "https://localhost:8080/"
        },
        "id": "EBhA2yM7ir1U",
        "outputId": "afded220-0aca-45a2-d208-1a155d916a6c"
      },
      "execution_count": null,
      "outputs": [
        {
          "output_type": "execute_result",
          "data": {
            "text/plain": [
              "False"
            ]
          },
          "metadata": {},
          "execution_count": 97
        }
      ]
    },
    {
      "cell_type": "code",
      "source": [
        "def kthElement(arr, k, index=0):\n",
        "    if index == k:\n",
        "        return arr[index]\n",
        "\n",
        "    if index < len(arr) - 1:\n",
        "        return kthElement(arr, k, index + 1)"
      ],
      "metadata": {
        "id": "C6ScaW8WizWr"
      },
      "execution_count": null,
      "outputs": []
    },
    {
      "cell_type": "code",
      "source": [
        "kthElement([1,2,7,9,3,4,5],5)"
      ],
      "metadata": {
        "colab": {
          "base_uri": "https://localhost:8080/"
        },
        "id": "SvTwW3aimO6W",
        "outputId": "ce73e249-a19f-4df5-fd00-406c04ecb17c"
      },
      "execution_count": null,
      "outputs": [
        {
          "output_type": "execute_result",
          "data": {
            "text/plain": [
              "4"
            ]
          },
          "metadata": {},
          "execution_count": 79
        }
      ]
    },
    {
      "cell_type": "code",
      "source": [
        "def countOccurance(arr,value,index=0):\n",
        "    if index == len(arr):\n",
        "        return 0\n",
        "    current_occurrence = 1 if arr[index] == value else 0\n",
        "    return current_occurrence + countOccurance(arr, value, index + 1)\n"
      ],
      "metadata": {
        "id": "wZl7E07vmsPl"
      },
      "execution_count": null,
      "outputs": []
    },
    {
      "cell_type": "code",
      "source": [
        "countOccurance([1,2,3,4,5,3,5,5,5],5)"
      ],
      "metadata": {
        "colab": {
          "base_uri": "https://localhost:8080/"
        },
        "id": "HNH8b6sv3ruR",
        "outputId": "c7b818a7-fec1-4857-ac39-281c0ae134bf"
      },
      "execution_count": null,
      "outputs": [
        {
          "output_type": "execute_result",
          "data": {
            "text/plain": [
              "4"
            ]
          },
          "metadata": {},
          "execution_count": 103
        }
      ]
    },
    {
      "cell_type": "code",
      "source": [
        "def allIndices(arr,element,index=0):\n",
        "    if index == len(arr):\n",
        "        return\n",
        "\n",
        "    if arr[index] == element:\n",
        "        print(index,end=\" \")\n",
        "\n",
        "    return allIndices(arr, element, index + 1)"
      ],
      "metadata": {
        "id": "80wTnqie3vjp"
      },
      "execution_count": null,
      "outputs": []
    },
    {
      "cell_type": "code",
      "source": [
        "allIndices([1, 2, 3, 2, 2, 5],2)"
      ],
      "metadata": {
        "colab": {
          "base_uri": "https://localhost:8080/"
        },
        "id": "b2CrdziA_cOf",
        "outputId": "5479b73f-d4b5-4eb2-ae46-f6d562a35182"
      },
      "execution_count": null,
      "outputs": [
        {
          "output_type": "stream",
          "name": "stdout",
          "text": [
            "1 3 4 "
          ]
        }
      ]
    },
    {
      "cell_type": "code",
      "source": [],
      "metadata": {
        "id": "8mpKo9GJ_i4a"
      },
      "execution_count": null,
      "outputs": []
    }
  ]
}