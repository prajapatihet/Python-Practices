{
  "nbformat": 4,
  "nbformat_minor": 0,
  "metadata": {
    "colab": {
      "provenance": [],
      "authorship_tag": "ABX9TyOGIsK13snFVmkOx4dt1Zz0",
      "include_colab_link": true
    },
    "kernelspec": {
      "name": "python3",
      "display_name": "Python 3"
    },
    "language_info": {
      "name": "python"
    }
  },
  "cells": [
    {
      "cell_type": "markdown",
      "metadata": {
        "id": "view-in-github",
        "colab_type": "text"
      },
      "source": [
        "<a href=\"https://colab.research.google.com/github/prajapatihet/Python-Practices/blob/main/PROGRAMMING_QUESTIONS_ON_NUMBER_LOGIC.ipynb\" target=\"_parent\"><img src=\"https://colab.research.google.com/assets/colab-badge.svg\" alt=\"Open In Colab\"/></a>"
      ]
    },
    {
      "cell_type": "code",
      "source": [
        "def properDivisorsSum(n):\n",
        "  sum=0\n",
        "  for i in range(1,n):\n",
        "    if n%i==0:\n",
        "      sum+=i\n",
        "  return sum"
      ],
      "metadata": {
        "id": "-ZOvzNSBUZIJ"
      },
      "execution_count": 26,
      "outputs": []
    },
    {
      "cell_type": "code",
      "source": [
        "def factors(n):\n",
        "  l = [0]*(n//2+1)\n",
        "  c =1\n",
        "  l[c-1] = 1\n",
        "  sum = 1\n",
        "  mul=1*n\n",
        "  i=2\n",
        "  while i<n//2+1:\n",
        "    if(n%i==0):\n",
        "      l[c] = i\n",
        "      c = c+1\n",
        "      sum = sum+i\n",
        "      mul = mul*i\n",
        "    i = i+1\n",
        "  if n>1:\n",
        "    sum = sum+n\n",
        "    l[c] = n\n",
        "    c = c+1\n",
        "  return c,sum,mul,l"
      ],
      "metadata": {
        "id": "sXfWJxqBTe5q"
      },
      "execution_count": 27,
      "outputs": []
    },
    {
      "cell_type": "code",
      "source": [
        "factors(6)"
      ],
      "metadata": {
        "colab": {
          "base_uri": "https://localhost:8080/"
        },
        "id": "P-MXEGep6sxz",
        "outputId": "737f96c6-d9c8-4254-e5d4-fed736ee6acd"
      },
      "execution_count": 28,
      "outputs": [
        {
          "output_type": "execute_result",
          "data": {
            "text/plain": [
              "(4, 12, 36, [1, 2, 3, 6])"
            ]
          },
          "metadata": {},
          "execution_count": 28
        }
      ]
    },
    {
      "cell_type": "code",
      "source": [
        "def power(n,m):\n",
        "  p=1\n",
        "  while m:\n",
        "    p = p*n\n",
        "    m=m-1\n",
        "  return p"
      ],
      "metadata": {
        "id": "nwcn7QDdVgyJ"
      },
      "execution_count": 42,
      "outputs": []
    },
    {
      "cell_type": "code",
      "source": [
        "def len(n):\n",
        "  l=0\n",
        "  if n<0:\n",
        "    n=n*(-1)\n",
        "  while n:\n",
        "    n=n//10\n",
        "    l=l+1\n",
        "  return l"
      ],
      "metadata": {
        "id": "78BLnN84TdRq"
      },
      "execution_count": 30,
      "outputs": []
    },
    {
      "cell_type": "code",
      "source": [
        "def factorial(n):\n",
        "  fact = 1\n",
        "  for i in range(1,n+1):\n",
        "    fact = fact*i\n",
        "  return fact"
      ],
      "metadata": {
        "id": "X63y4KISYsvW"
      },
      "execution_count": 31,
      "outputs": []
    },
    {
      "cell_type": "code",
      "source": [
        "def halfPower(n):\n",
        "  return n**0.5\n",
        "  # for i in range(1,n+1):\n",
        "  #   if(n%(i*i)==0):\n",
        "  #     if(i*i==n):\n",
        "  #       print(i)\n"
      ],
      "metadata": {
        "id": "UpMwjI3cvfmF"
      },
      "execution_count": 32,
      "outputs": []
    },
    {
      "cell_type": "markdown",
      "source": [
        "1. Write a program to the sum of n natural numbers."
      ],
      "metadata": {
        "id": "SKFSZg74MRrc"
      }
    },
    {
      "cell_type": "code",
      "execution_count": 33,
      "metadata": {
        "id": "uGaCwzqiMLqE"
      },
      "outputs": [],
      "source": [
        "def sumOfNnumber(num):\n",
        "  sum=0\n",
        "  for i in range(1,num+1):\n",
        "    sum = sum+i\n",
        "  return sum"
      ]
    },
    {
      "cell_type": "code",
      "source": [
        "num = int(input(\"Enter a Number: \"))\n",
        "print(sumOfNnumber(num))"
      ],
      "metadata": {
        "colab": {
          "base_uri": "https://localhost:8080/"
        },
        "id": "iWoS5tLHMvrp",
        "outputId": "b701ce38-a98f-4e24-92fb-eb1cadde371d"
      },
      "execution_count": null,
      "outputs": [
        {
          "output_type": "stream",
          "name": "stdout",
          "text": [
            "Enter a Number: 10\n",
            "55\n"
          ]
        }
      ]
    },
    {
      "cell_type": "markdown",
      "source": [
        "2. Write a program to compute 1/n!."
      ],
      "metadata": {
        "id": "6-GeFnduOPyX"
      }
    },
    {
      "cell_type": "code",
      "source": [
        "num = int(input(\"Enter a Number: \"))\n",
        "answer = 1/factorial(num)\n",
        "print(answer)"
      ],
      "metadata": {
        "colab": {
          "base_uri": "https://localhost:8080/"
        },
        "id": "qluQBOUePuLJ",
        "outputId": "342191e2-32af-4028-a37e-d57ef5cc3bb5"
      },
      "execution_count": null,
      "outputs": [
        {
          "output_type": "stream",
          "name": "stdout",
          "text": [
            "Enter a Number: 2\n",
            "0.5\n"
          ]
        }
      ]
    },
    {
      "cell_type": "markdown",
      "source": [
        "3. Write a program to compute x^n/n!."
      ],
      "metadata": {
        "id": "pJLTPrKERdPD"
      }
    },
    {
      "cell_type": "code",
      "source": [
        "n = int(input(\"Enter value of n: \"))\n",
        "x = int(input(\"Enter value of x: \"))\n",
        "\n",
        "result = pow(x,n)/factorial(n)\n",
        "print(result)"
      ],
      "metadata": {
        "colab": {
          "base_uri": "https://localhost:8080/"
        },
        "id": "_0gpx59tYzaZ",
        "outputId": "2879ad99-894d-49c5-bd33-8c47f5114f54"
      },
      "execution_count": 41,
      "outputs": [
        {
          "output_type": "stream",
          "name": "stdout",
          "text": [
            "Enter value of n: 12\n",
            "Enter value of x: 1\n",
            "2.08767569878681e-09\n"
          ]
        }
      ]
    },
    {
      "cell_type": "markdown",
      "source": [
        "4. Write a program to count the number of digits in an integer."
      ],
      "metadata": {
        "id": "SiIUaCiWRQLX"
      }
    },
    {
      "cell_type": "code",
      "source": [
        "def numberOfDigit(n):\n",
        "  count=0\n",
        "  if n<0:\n",
        "    n = n*-1\n",
        "  if n==0:\n",
        "    return\n",
        "  else:\n",
        "    while n:\n",
        "      n = n//10\n",
        "      count = count+1\n",
        "    return count"
      ],
      "metadata": {
        "id": "178Yy7VeP15E"
      },
      "execution_count": null,
      "outputs": []
    },
    {
      "cell_type": "code",
      "source": [
        "num = int(input(\"Enter a number: \"))\n",
        "print(numberOfDigit(num))"
      ],
      "metadata": {
        "colab": {
          "base_uri": "https://localhost:8080/"
        },
        "id": "xoux3cV2SCxb",
        "outputId": "cd3125ea-5f89-430e-9096-68c7496e7ee8"
      },
      "execution_count": null,
      "outputs": [
        {
          "output_type": "stream",
          "name": "stdout",
          "text": [
            "Enter a number: 568656\n",
            "6\n"
          ]
        }
      ]
    },
    {
      "cell_type": "markdown",
      "source": [
        "5. Write a program to sum all digits of a number."
      ],
      "metadata": {
        "id": "ruty4Mb0StTv"
      }
    },
    {
      "cell_type": "code",
      "source": [
        "def sumOfDigits(n):\n",
        "  l = len(n)\n",
        "  sum=0\n",
        "  while n>0:\n",
        "    rem=n%10\n",
        "    sum=sum+rem\n",
        "    n=int(n/10)\n",
        "  return sum"
      ],
      "metadata": {
        "id": "3-4hZXpISWE8"
      },
      "execution_count": 35,
      "outputs": []
    },
    {
      "cell_type": "code",
      "source": [
        "num = int(input(\"Enter a number: \"))\n",
        "print(sumOfDigits(num))"
      ],
      "metadata": {
        "colab": {
          "base_uri": "https://localhost:8080/"
        },
        "id": "WP6klcL0TIP8",
        "outputId": "688bcad8-542e-4b25-a116-d1ffbba87069"
      },
      "execution_count": null,
      "outputs": [
        {
          "output_type": "stream",
          "name": "stdout",
          "text": [
            "Enter a number: 123\n",
            "6\n"
          ]
        }
      ]
    },
    {
      "cell_type": "markdown",
      "source": [
        "6. Write a program to reverse a given number."
      ],
      "metadata": {
        "id": "6Dy6s44ZUQ7T"
      }
    },
    {
      "cell_type": "code",
      "source": [
        "def reverseNumber(n):\n",
        "  num = 0\n",
        "  l = len(n)\n",
        "  while(n!=0):\n",
        "    rem=n%10\n",
        "    n=int(n/10)\n",
        "    num=num*10+rem\n",
        "  return num if l == len(num) else '0'*(l-len(num))+str(num)"
      ],
      "metadata": {
        "id": "havqO3IdTQ23"
      },
      "execution_count": 36,
      "outputs": []
    },
    {
      "cell_type": "code",
      "source": [
        "print(reverseNumber(1000))"
      ],
      "metadata": {
        "colab": {
          "base_uri": "https://localhost:8080/"
        },
        "id": "dUFRr9Y7cQhJ",
        "outputId": "a57065aa-6eeb-4feb-a203-bc32c2ffbf43"
      },
      "execution_count": null,
      "outputs": [
        {
          "output_type": "stream",
          "name": "stdout",
          "text": [
            "0001\n"
          ]
        }
      ]
    },
    {
      "cell_type": "markdown",
      "source": [
        "7. Write a program to calculate G.C.D or HCF of two numbers."
      ],
      "metadata": {
        "id": "P46Jr8_McYox"
      }
    },
    {
      "cell_type": "code",
      "source": [
        "def gcd(n,m):\n",
        "  while n!=m:\n",
        "    if(n>m):\n",
        "      n = n-m\n",
        "    else:\n",
        "      m = m-n\n",
        "  return n"
      ],
      "metadata": {
        "id": "RdToggxAcUpv"
      },
      "execution_count": null,
      "outputs": []
    },
    {
      "cell_type": "code",
      "source": [
        "print(gcd(100,50))"
      ],
      "metadata": {
        "colab": {
          "base_uri": "https://localhost:8080/"
        },
        "id": "SMmePMTVd2Fk",
        "outputId": "78df1367-2e7e-42f1-eb82-2fdd80c94bc5"
      },
      "execution_count": null,
      "outputs": [
        {
          "output_type": "stream",
          "name": "stdout",
          "text": [
            "50\n"
          ]
        }
      ]
    },
    {
      "cell_type": "markdown",
      "source": [
        "8. Write a program to calculate the LCM of two numbers."
      ],
      "metadata": {
        "id": "yYOZfCMlqLfY"
      }
    },
    {
      "cell_type": "code",
      "source": [
        "def lcm(n,m):\n",
        "  return (n*m)/gcd(n,m)"
      ],
      "metadata": {
        "id": "3UbaWDJzd4tx"
      },
      "execution_count": null,
      "outputs": []
    },
    {
      "cell_type": "code",
      "source": [
        "print(lcm(50,100))"
      ],
      "metadata": {
        "colab": {
          "base_uri": "https://localhost:8080/"
        },
        "id": "-WX4Ivb9qVXR",
        "outputId": "7b6c00b1-f494-4b76-db0a-e90712c60cdc"
      },
      "execution_count": null,
      "outputs": [
        {
          "output_type": "stream",
          "name": "stdout",
          "text": [
            "100.0\n"
          ]
        }
      ]
    },
    {
      "cell_type": "markdown",
      "source": [
        "9. Write a program to find the factorial of a number."
      ],
      "metadata": {
        "id": "1VF6OXG9syEO"
      }
    },
    {
      "cell_type": "code",
      "source": [
        "def facto(n):\n",
        "  f = 1\n",
        "  for i in range(1,n+1):\n",
        "    f = f*i\n",
        "  return f"
      ],
      "metadata": {
        "id": "n2Ef_ji_qZbd"
      },
      "execution_count": null,
      "outputs": []
    },
    {
      "cell_type": "code",
      "source": [
        "print(facto(5))"
      ],
      "metadata": {
        "colab": {
          "base_uri": "https://localhost:8080/"
        },
        "id": "tOLgfMHVs7Jn",
        "outputId": "7a55b07c-83fc-4bd2-8bec-13283c487c0e"
      },
      "execution_count": null,
      "outputs": [
        {
          "output_type": "stream",
          "name": "stdout",
          "text": [
            "120\n"
          ]
        }
      ]
    },
    {
      "cell_type": "markdown",
      "source": [
        "10. Write a Program to calculate prime Factors of number."
      ],
      "metadata": {
        "id": "YXUEIMVGtDOY"
      }
    },
    {
      "cell_type": "code",
      "source": [
        "def is_prime(n):\n",
        "  for i in range(2, int(halfPower(n)) + 1):\n",
        "    if n % i == 0:\n",
        "      return False\n",
        "  return True\n"
      ],
      "metadata": {
        "id": "teBvn55LuY_P"
      },
      "execution_count": null,
      "outputs": []
    },
    {
      "cell_type": "code",
      "source": [
        "def primeNumber(n):\n",
        "  for i in range(2,n+1):\n",
        "    if n % i == 0:\n",
        "      if is_prime(i):\n",
        "        print(i)\n",
        "\n"
      ],
      "metadata": {
        "id": "Q32kkQ8ds-SE"
      },
      "execution_count": null,
      "outputs": []
    },
    {
      "cell_type": "code",
      "source": [
        "print(primeNumber(50))"
      ],
      "metadata": {
        "colab": {
          "base_uri": "https://localhost:8080/"
        },
        "id": "cu4CaxxLtWg7",
        "outputId": "31c40cb2-1374-4ac1-8c3d-837d1899e888"
      },
      "execution_count": null,
      "outputs": [
        {
          "output_type": "stream",
          "name": "stdout",
          "text": [
            "2\n",
            "5\n",
            "None\n"
          ]
        }
      ]
    },
    {
      "cell_type": "markdown",
      "source": [
        "11. Write a program to check the given number is a palindrome or not."
      ],
      "metadata": {
        "id": "cxOCteiY2vOu"
      }
    },
    {
      "cell_type": "code",
      "source": [
        "def isPalindrome(n):\n",
        "  temp=n\n",
        "  reverse=0\n",
        "  while n!=0:\n",
        "    rem = n%10\n",
        "    n = n//10\n",
        "    reverse = reverse*10+rem\n",
        "\n",
        "\n",
        "  if(temp==reverse):\n",
        "    return True\n",
        "  else:\n",
        "    return False"
      ],
      "metadata": {
        "id": "-0ethIGqtZ5i"
      },
      "execution_count": 59,
      "outputs": []
    },
    {
      "cell_type": "code",
      "source": [
        "print(isPalindrome(12321))"
      ],
      "metadata": {
        "colab": {
          "base_uri": "https://localhost:8080/"
        },
        "id": "1VmvvQv74h-S",
        "outputId": "9bf26544-116f-4b10-bda1-a45ce8999dd1"
      },
      "execution_count": null,
      "outputs": [
        {
          "output_type": "stream",
          "name": "stdout",
          "text": [
            "True\n"
          ]
        }
      ]
    },
    {
      "cell_type": "markdown",
      "source": [
        "12. Write a program to check whether a given number is prime or not."
      ],
      "metadata": {
        "id": "_LD7Ngsa4_73"
      }
    },
    {
      "cell_type": "code",
      "source": [
        "def is_prime(n):\n",
        "  for i in range(2, int(halfPower(n)) + 1):\n",
        "    if n % i == 0:\n",
        "      return False\n",
        "  return True\n"
      ],
      "metadata": {
        "id": "DpzndBwo4lMO"
      },
      "execution_count": null,
      "outputs": []
    },
    {
      "cell_type": "code",
      "source": [
        "print(is_prime(29))"
      ],
      "metadata": {
        "colab": {
          "base_uri": "https://localhost:8080/"
        },
        "id": "1kvSvZKu5BfZ",
        "outputId": "231a3ec8-35e5-4023-ea4c-46f62eed02da"
      },
      "execution_count": null,
      "outputs": [
        {
          "output_type": "stream",
          "name": "stdout",
          "text": [
            "True\n"
          ]
        }
      ]
    },
    {
      "cell_type": "markdown",
      "source": [
        "13. Write a program to check whether a given number is a perfect square\n",
        "number or not."
      ],
      "metadata": {
        "id": "LyHR_fGP7IXs"
      }
    },
    {
      "cell_type": "code",
      "source": [
        "def isPerfectSquare(num):\n",
        "  sqr = halfPower(num)\n",
        "  if sqr-int(sqr) == 0:\n",
        "    return True\n",
        "  else:\n",
        "    return False"
      ],
      "metadata": {
        "id": "C4DQjnYW5E-e"
      },
      "execution_count": null,
      "outputs": []
    },
    {
      "cell_type": "code",
      "source": [
        "print(isPerfectSquare(35))"
      ],
      "metadata": {
        "colab": {
          "base_uri": "https://localhost:8080/"
        },
        "id": "69VhqTei6oHc",
        "outputId": "22a1b75e-d510-4812-ec2e-fa2480ca8235"
      },
      "execution_count": null,
      "outputs": [
        {
          "output_type": "stream",
          "name": "stdout",
          "text": [
            "False\n"
          ]
        }
      ]
    },
    {
      "cell_type": "markdown",
      "source": [
        "14. Write a program to check whether a given number is an Armstrong\n",
        "number or not."
      ],
      "metadata": {
        "id": "h-twWXca7KzI"
      }
    },
    {
      "cell_type": "code",
      "source": [
        "def isArmrstrong(n):\n",
        "  temp=n\n",
        "  sum=0\n",
        "  while n!=0:\n",
        "    rem = n%10\n",
        "    n = n//10\n",
        "    sum = sum + rem*rem*rem\n",
        "    if sum>temp:\n",
        "     return False\n",
        "\n",
        "\n",
        "  if(sum==temp):\n",
        "    return True\n",
        "  else:\n",
        "    return False"
      ],
      "metadata": {
        "id": "SB51xQzx7DYB"
      },
      "execution_count": null,
      "outputs": []
    },
    {
      "cell_type": "code",
      "source": [
        "print(isArmrstrong(372))"
      ],
      "metadata": {
        "id": "oXGYa2L38RSP",
        "colab": {
          "base_uri": "https://localhost:8080/"
        },
        "outputId": "06f03fb5-8bbd-4078-e224-49d655edc989"
      },
      "execution_count": null,
      "outputs": [
        {
          "output_type": "stream",
          "name": "stdout",
          "text": [
            "False\n"
          ]
        }
      ]
    },
    {
      "cell_type": "markdown",
      "source": [
        "15. Write a program to check whether a given number is a strong number or not."
      ],
      "metadata": {
        "id": "4d1U3UJq8thJ"
      }
    },
    {
      "cell_type": "code",
      "source": [
        "def isStrongNumber(n):\n",
        "  temp = n\n",
        "  sum=0\n",
        "  while n!=0:\n",
        "    f = 1\n",
        "    rem = n%10\n",
        "    n = n//10\n",
        "    for i in range(1,rem+1):\n",
        "      f = f*i\n",
        "    sum = sum+f\n",
        "\n",
        "  if temp == sum:\n",
        "    return True\n",
        "  else:\n",
        "    return False"
      ],
      "metadata": {
        "id": "8TemwLLR8VMD"
      },
      "execution_count": null,
      "outputs": []
    },
    {
      "cell_type": "code",
      "source": [
        "print(isStrongNumber(145))"
      ],
      "metadata": {
        "colab": {
          "base_uri": "https://localhost:8080/"
        },
        "id": "nkSBwLjK9hOg",
        "outputId": "0d84e54d-69ab-4ca1-bd49-ecc6061a9f50"
      },
      "execution_count": null,
      "outputs": [
        {
          "output_type": "stream",
          "name": "stdout",
          "text": [
            "True\n"
          ]
        }
      ]
    },
    {
      "cell_type": "markdown",
      "source": [
        "16. Write a program to check whether a given number is a perfect number or\n",
        "not."
      ],
      "metadata": {
        "id": "ONuDmR1M96zK"
      }
    },
    {
      "cell_type": "code",
      "source": [
        "def isPerfectNumber(n):\n",
        "  temp = n\n",
        "  sum = 0\n",
        "  for i in range(1,n):\n",
        "    if(n%i==0):\n",
        "      sum=sum+i\n",
        "\n",
        "  if(temp==sum):\n",
        "    return True\n",
        "  else:\n",
        "    return False"
      ],
      "metadata": {
        "id": "SrBbpDvz9j1O"
      },
      "execution_count": null,
      "outputs": []
    },
    {
      "cell_type": "code",
      "source": [
        "print(isPerfectNumber(497))"
      ],
      "metadata": {
        "colab": {
          "base_uri": "https://localhost:8080/"
        },
        "id": "iYGyA4Ml-sR7",
        "outputId": "4d2187bd-91f2-41a3-b7be-50563070299f"
      },
      "execution_count": null,
      "outputs": [
        {
          "output_type": "stream",
          "name": "stdout",
          "text": [
            "False\n"
          ]
        }
      ]
    },
    {
      "cell_type": "markdown",
      "source": [
        "17. Write a program to check whether a given number is a Harshad number or\n",
        "not."
      ],
      "metadata": {
        "id": "d2n4TWy0_Ji6"
      }
    },
    {
      "cell_type": "code",
      "source": [
        "def isHarshadNumber(n):\n",
        "  temp = n\n",
        "  sum=0\n",
        "  while n!=0:\n",
        "    rem = n%10\n",
        "    n = n//10\n",
        "    sum = sum+rem\n",
        "\n",
        "  if(temp%sum==0):\n",
        "    return True\n",
        "  else:\n",
        "    return False"
      ],
      "metadata": {
        "id": "mxjUQmav-v_P"
      },
      "execution_count": null,
      "outputs": []
    },
    {
      "cell_type": "code",
      "source": [
        "print(isHarshadNumber(19))"
      ],
      "metadata": {
        "colab": {
          "base_uri": "https://localhost:8080/"
        },
        "id": "3JpdwU7zAepl",
        "outputId": "079163d6-060b-4bc3-ac81-d81e6ac72f3e"
      },
      "execution_count": null,
      "outputs": [
        {
          "output_type": "stream",
          "name": "stdout",
          "text": [
            "False\n"
          ]
        }
      ]
    },
    {
      "cell_type": "markdown",
      "source": [
        "18. Write a program to check whether a given number is an Abundant number\n",
        "or not."
      ],
      "metadata": {
        "id": "jF8_MbpHAyLV"
      }
    },
    {
      "cell_type": "code",
      "source": [
        "def isAbundantNumber(n):\n",
        "  temp = n\n",
        "  sum=0\n",
        "  for i in range(1,n):\n",
        "    if(n%i==0):\n",
        "      sum = sum+i\n",
        "\n",
        "  if sum>temp:\n",
        "    return True\n",
        "  else:\n",
        "    return False"
      ],
      "metadata": {
        "id": "bqBm03nvAjoW"
      },
      "execution_count": null,
      "outputs": []
    },
    {
      "cell_type": "code",
      "source": [
        "print(isAbundantNumber(45))"
      ],
      "metadata": {
        "colab": {
          "base_uri": "https://localhost:8080/"
        },
        "id": "OpvSInk-EA4P",
        "outputId": "92d0a8be-f73d-4853-aaa0-910bc8f3ca5d"
      },
      "execution_count": null,
      "outputs": [
        {
          "output_type": "stream",
          "name": "stdout",
          "text": [
            "False\n"
          ]
        }
      ]
    },
    {
      "cell_type": "markdown",
      "source": [
        "19. Write a program to check whether a given number is an Automorphic\n",
        "number or not."
      ],
      "metadata": {
        "id": "fgXj2VNiEaEx"
      }
    },
    {
      "cell_type": "code",
      "source": [
        "def isAutomorphicNumber(n):\n",
        "  sqr = n*n\n",
        "  flag=0\n",
        "  while n!=0:\n",
        "    if(n%10!=sqr%10):\n",
        "      flag = -1\n",
        "      break\n",
        "    n = n//10\n",
        "    sqr = sqr//10\n",
        "\n",
        "  if(flag==0):\n",
        "    return True\n",
        "  else:\n",
        "    return False"
      ],
      "metadata": {
        "id": "Hx72_SOqEGZd"
      },
      "execution_count": null,
      "outputs": []
    },
    {
      "cell_type": "code",
      "source": [
        "print(isAutomorphicNumber(76))"
      ],
      "metadata": {
        "colab": {
          "base_uri": "https://localhost:8080/"
        },
        "id": "GgonM_M1G9dX",
        "outputId": "f4be8f0a-68fc-40b0-ae1f-a79e8386eecc"
      },
      "execution_count": null,
      "outputs": [
        {
          "output_type": "stream",
          "name": "stdout",
          "text": [
            "True\n"
          ]
        }
      ]
    },
    {
      "cell_type": "markdown",
      "source": [
        "20. Write a Program to check whether the number is Magic Number or Not."
      ],
      "metadata": {
        "id": "l5y6njOoHfx3"
      }
    },
    {
      "cell_type": "code",
      "source": [
        "def isMagicNumber(n):\n",
        "  m = sumOfDigits(n)\n",
        "  if m*reverseNumber(m) == n:\n",
        "    return True\n",
        "  return False"
      ],
      "metadata": {
        "id": "sodaCiEFHAb_"
      },
      "execution_count": null,
      "outputs": []
    },
    {
      "cell_type": "code",
      "source": [
        "print(isMagicNumber(1720))"
      ],
      "metadata": {
        "colab": {
          "base_uri": "https://localhost:8080/"
        },
        "id": "7Z-FjikT_DVo",
        "outputId": "53c51b46-ae1c-4822-b793-6ecf5fb8f557"
      },
      "execution_count": null,
      "outputs": [
        {
          "output_type": "stream",
          "name": "stdout",
          "text": [
            "False\n"
          ]
        }
      ]
    },
    {
      "cell_type": "markdown",
      "source": [
        "21. Write a program to check whether a given number is Friendly pair or not."
      ],
      "metadata": {
        "id": "nTHRhkSh_hjr"
      }
    },
    {
      "cell_type": "code",
      "source": [
        "def isFriendlyPair(n,m):\n",
        "  temp1 = n\n",
        "  temp2 = m\n",
        "  sum1 = 0\n",
        "  sum2 = 0\n",
        "  for i in range(1,n):\n",
        "    if(n%i==0):\n",
        "      sum1=sum1+i\n",
        "\n",
        "  for i in range(1,m):\n",
        "    if(m%i==0):\n",
        "      sum2 = sum2+i\n",
        "\n",
        "  if((sum1/n)%(sum2/m)==0):\n",
        "    return True\n",
        "  else:\n",
        "    return False"
      ],
      "metadata": {
        "id": "DEisA-gq_blS"
      },
      "execution_count": null,
      "outputs": []
    },
    {
      "cell_type": "code",
      "source": [
        "print(isFriendlyPair(12,234))"
      ],
      "metadata": {
        "colab": {
          "base_uri": "https://localhost:8080/"
        },
        "id": "zJqn2unnD2sO",
        "outputId": "f05b0e4c-8045-4666-acb8-e19a338caddf"
      },
      "execution_count": null,
      "outputs": [
        {
          "output_type": "stream",
          "name": "stdout",
          "text": [
            "True\n"
          ]
        }
      ]
    },
    {
      "cell_type": "markdown",
      "source": [
        "22. Write a Program to check whether the number is Neon Number or Not."
      ],
      "metadata": {
        "id": "CTBBT0bjFaGU"
      }
    },
    {
      "cell_type": "code",
      "source": [
        "def isNeonNumber(n):\n",
        "  temp = n\n",
        "  sqr = n*n\n",
        "  sum=0\n",
        "  for i in range(len(sqr)):\n",
        "    rem = sqr%10\n",
        "    sqr = sqr//10\n",
        "    sum = sum+rem\n",
        "\n",
        "  if(sum==temp):\n",
        "    return True\n",
        "  else:\n",
        "    return False"
      ],
      "metadata": {
        "id": "1vKbVV-PD6Bz"
      },
      "execution_count": null,
      "outputs": []
    },
    {
      "cell_type": "code",
      "source": [
        "print(isNeonNumber(8))"
      ],
      "metadata": {
        "colab": {
          "base_uri": "https://localhost:8080/"
        },
        "id": "oQKZbrz-F0wB",
        "outputId": "1556a7db-8c23-47a7-ce26-11834d002d69"
      },
      "execution_count": null,
      "outputs": [
        {
          "output_type": "stream",
          "name": "stdout",
          "text": [
            "False\n"
          ]
        }
      ]
    },
    {
      "cell_type": "markdown",
      "source": [
        "23. Write a Program to check whether the number is Spy Number or Not."
      ],
      "metadata": {
        "id": "ks0ts6RwePTc"
      }
    },
    {
      "cell_type": "code",
      "source": [
        "def isSpyNumber(n):\n",
        "  temp = n\n",
        "\n",
        "  sum = 0\n",
        "  product = 1\n",
        "  for i in range(len(temp)):\n",
        "    rem = n%10\n",
        "    n = n// 10\n",
        "    sum = sum+rem\n",
        "  for i in range(len(temp)):\n",
        "    rem = temp%10\n",
        "    temp = temp//10\n",
        "    product = product*rem\n",
        "\n",
        "  if sum == product:\n",
        "    return True\n",
        "  else:\n",
        "    return False"
      ],
      "metadata": {
        "id": "jatNg901F3Ib"
      },
      "execution_count": null,
      "outputs": []
    },
    {
      "cell_type": "code",
      "source": [
        "print(isSpyNumber(123))"
      ],
      "metadata": {
        "colab": {
          "base_uri": "https://localhost:8080/"
        },
        "id": "_UhInXRBexLu",
        "outputId": "4135f936-494e-49b4-dd92-4d5c04249984"
      },
      "execution_count": null,
      "outputs": [
        {
          "output_type": "stream",
          "name": "stdout",
          "text": [
            "True\n"
          ]
        }
      ]
    },
    {
      "cell_type": "markdown",
      "source": [
        "24. Write a Program to check whether the number is Happy Number or Not."
      ],
      "metadata": {
        "id": "L_AJ9ln6fZm6"
      }
    },
    {
      "cell_type": "code",
      "source": [
        "def isHappyNumber(n):\n",
        "  sum=0\n",
        "  while sum!=1 and sum!=4:\n",
        "    sum =0\n",
        "    while n!=0:\n",
        "      rem = n%10\n",
        "      n = n//10\n",
        "      sum = sum+rem*rem\n",
        "    n=sum\n",
        "\n",
        "  if sum==1:\n",
        "    return True\n",
        "  else:\n",
        "    return False"
      ],
      "metadata": {
        "id": "doYmBG-ue042"
      },
      "execution_count": null,
      "outputs": []
    },
    {
      "cell_type": "code",
      "source": [
        "print(isHappyNumber(29))"
      ],
      "metadata": {
        "colab": {
          "base_uri": "https://localhost:8080/"
        },
        "id": "MgVhBdwrjWVk",
        "outputId": "948d387f-dee9-40cf-fbdf-2227ae03b93e"
      },
      "execution_count": null,
      "outputs": [
        {
          "output_type": "stream",
          "name": "stdout",
          "text": [
            "False\n"
          ]
        }
      ]
    },
    {
      "cell_type": "markdown",
      "source": [
        "25. Write a Program to check whether the number is Sunny Number or Not."
      ],
      "metadata": {
        "id": "wx6MCshTM3LP"
      }
    },
    {
      "cell_type": "code",
      "source": [
        "def isSunnyNumber(num):\n",
        "  sqr = halfPower(num+1)\n",
        "  if sqr-int(sqr) == 0:\n",
        "    return True\n",
        "  else:\n",
        "    return False"
      ],
      "metadata": {
        "id": "MDs_lOYR8-zd"
      },
      "execution_count": null,
      "outputs": []
    },
    {
      "cell_type": "code",
      "source": [
        "print(isSunnyNumber(80))"
      ],
      "metadata": {
        "colab": {
          "base_uri": "https://localhost:8080/"
        },
        "id": "ClLIwssz2a9o",
        "outputId": "ad55b4d1-7316-4679-90cc-b2110baa2ae8"
      },
      "execution_count": null,
      "outputs": [
        {
          "output_type": "stream",
          "name": "stdout",
          "text": [
            "True\n"
          ]
        }
      ]
    },
    {
      "cell_type": "markdown",
      "source": [
        "26. Write a Program to check whether the number is Disarium Number or Not."
      ],
      "metadata": {
        "id": "OQXz9a4K3MCU"
      }
    },
    {
      "cell_type": "code",
      "source": [
        "def isDisariumNumber(n):\n",
        "  temp = n\n",
        "  sum=0\n",
        "  l = len(n)\n",
        "  while temp!=0:\n",
        "    rem = temp%10\n",
        "    sum = sum+power(rem,l)\n",
        "    temp = temp//10\n",
        "    l=l-1\n",
        "\n",
        "  if sum==n:\n",
        "    return True\n",
        "  else:\n",
        "    return False\n"
      ],
      "metadata": {
        "id": "W_oKOqK72g5n"
      },
      "execution_count": null,
      "outputs": []
    },
    {
      "cell_type": "code",
      "source": [
        "print(isDisariumNumber(135))"
      ],
      "metadata": {
        "colab": {
          "base_uri": "https://localhost:8080/"
        },
        "id": "U7vLZans6cCI",
        "outputId": "1c8fbb64-fe5e-4494-f043-3489b3ac32cb"
      },
      "execution_count": null,
      "outputs": [
        {
          "output_type": "stream",
          "name": "stdout",
          "text": [
            "True\n"
          ]
        }
      ]
    },
    {
      "cell_type": "markdown",
      "source": [
        "27. Write a Program to check whether the number is a Pronic Number or Not."
      ],
      "metadata": {
        "id": "MEvTBUo0nM8H"
      }
    },
    {
      "cell_type": "code",
      "source": [
        "def isPronicNumber(n):\n",
        "  for i in range(1,n+1):\n",
        "    if i*(i+1)==n:\n",
        "      return True\n",
        "\n",
        "  return False"
      ],
      "metadata": {
        "id": "x1RhfLev6esg"
      },
      "execution_count": null,
      "outputs": []
    },
    {
      "cell_type": "code",
      "source": [
        "print(isPronicNumber(6))"
      ],
      "metadata": {
        "colab": {
          "base_uri": "https://localhost:8080/"
        },
        "id": "sq1hNTfin6-A",
        "outputId": "e1695386-fba8-4630-a5fe-cf600e410e4b"
      },
      "execution_count": null,
      "outputs": [
        {
          "output_type": "stream",
          "name": "stdout",
          "text": [
            "True\n"
          ]
        }
      ]
    },
    {
      "cell_type": "markdown",
      "source": [
        "28. Write a Program to check whether the number is a Trimorphic Number or\n",
        "Not."
      ],
      "metadata": {
        "id": "rQam_Qc1oSP4"
      }
    },
    {
      "cell_type": "code",
      "source": [
        "def isTrimorphicNumber(num):\n",
        "  flag=0\n",
        "  cube_power=num*num*num\n",
        "  while num!=0:\n",
        "    if num%10!=cube_power%10:\n",
        "      flag=1\n",
        "      break\n",
        "    num//=10\n",
        "    cube_power//=10\n",
        "  if flag==0:\n",
        "    return True\n",
        "  else:\n",
        "    return False"
      ],
      "metadata": {
        "id": "dO1dRjywoMFt"
      },
      "execution_count": null,
      "outputs": []
    },
    {
      "cell_type": "code",
      "source": [
        "print(isTrimorphicNumber(52))"
      ],
      "metadata": {
        "colab": {
          "base_uri": "https://localhost:8080/"
        },
        "id": "FMeUiK0aotoU",
        "outputId": "639c8384-b8db-42a2-aa0d-529e07d5de2b"
      },
      "execution_count": null,
      "outputs": [
        {
          "output_type": "stream",
          "name": "stdout",
          "text": [
            "False\n"
          ]
        }
      ]
    },
    {
      "cell_type": "markdown",
      "source": [
        "29. Write a Program to check whether the number is an Evil Number or Not."
      ],
      "metadata": {
        "id": "SwJ167-fo8d3"
      }
    },
    {
      "cell_type": "code",
      "source": [
        "def isEvilNumber(n):\n",
        "  one=0\n",
        "  while n!=0:\n",
        "    if n%2==1:\n",
        "        one+=1\n",
        "    n//=2\n",
        "\n",
        "  if one%2==0:\n",
        "    return True\n",
        "  else:\n",
        "    return False"
      ],
      "metadata": {
        "id": "uIhLpsRMowsa"
      },
      "execution_count": null,
      "outputs": []
    },
    {
      "cell_type": "code",
      "source": [
        "print(isEvilNumber(7))"
      ],
      "metadata": {
        "colab": {
          "base_uri": "https://localhost:8080/"
        },
        "id": "uzHdkPDtph8Z",
        "outputId": "11d86662-96f7-4a64-8389-bff95adf28a5"
      },
      "execution_count": null,
      "outputs": [
        {
          "output_type": "stream",
          "name": "stdout",
          "text": [
            "False\n"
          ]
        }
      ]
    },
    {
      "cell_type": "markdown",
      "source": [
        "30. Write a program to find out all palindrome numbers present within a given\n",
        "range."
      ],
      "metadata": {
        "id": "htbl01i1p_pp"
      }
    },
    {
      "cell_type": "code",
      "source": [
        "def listPalindromeNumber(n,m):\n",
        "  for i in range(n,m+1):\n",
        "    if isPalindrome(i):\n",
        "      print(i,end=\" \")"
      ],
      "metadata": {
        "id": "p3iKH-WUpj3s"
      },
      "execution_count": null,
      "outputs": []
    },
    {
      "cell_type": "code",
      "source": [
        "print(listPalindromeNumber(1000,2000))"
      ],
      "metadata": {
        "colab": {
          "base_uri": "https://localhost:8080/"
        },
        "id": "r0qGvuK70I6y",
        "outputId": "1e8d6c46-fdbb-4536-eaba-a9379e9512f7"
      },
      "execution_count": null,
      "outputs": [
        {
          "output_type": "stream",
          "name": "stdout",
          "text": [
            "1001 1111 1221 1331 1441 1551 1661 1771 1881 1991 None\n"
          ]
        }
      ]
    },
    {
      "cell_type": "markdown",
      "source": [
        "31. Write a program to find out all primes numbers present within a given\n",
        "range."
      ],
      "metadata": {
        "id": "W5yuk_eh08kk"
      }
    },
    {
      "cell_type": "code",
      "source": [
        "def listPrimeNumber(n,m):\n",
        "  for i in range(n,m+1):\n",
        "    if is_prime(i):\n",
        "      print(i,end=\" \")"
      ],
      "metadata": {
        "id": "kXsSlWba0MUe"
      },
      "execution_count": null,
      "outputs": []
    },
    {
      "cell_type": "code",
      "source": [
        "print(listPrimeNumber(500,600))"
      ],
      "metadata": {
        "colab": {
          "base_uri": "https://localhost:8080/"
        },
        "id": "jjLnzyX44kd1",
        "outputId": "809b6a3c-9d90-4e4b-e235-d18ad7b1b34c"
      },
      "execution_count": null,
      "outputs": [
        {
          "output_type": "stream",
          "name": "stdout",
          "text": [
            "503 509 521 523 541 547 557 563 569 571 577 587 593 599 None\n"
          ]
        }
      ]
    },
    {
      "cell_type": "markdown",
      "source": [
        "32. Write a program to find out all perfect square numbers present within a\n",
        "given range."
      ],
      "metadata": {
        "id": "L5zD1P-r5Gvo"
      }
    },
    {
      "cell_type": "code",
      "source": [
        "def listPerfectSquareNumber(n,m):\n",
        "  for i in range(n,m+1):\n",
        "    if isPerfectSquare(i):\n",
        "      print(i,end=\" \")"
      ],
      "metadata": {
        "id": "wCgu1WcR4paZ"
      },
      "execution_count": null,
      "outputs": []
    },
    {
      "cell_type": "code",
      "source": [
        "print(listPerfectSquareNumber(300,500))"
      ],
      "metadata": {
        "colab": {
          "base_uri": "https://localhost:8080/"
        },
        "id": "0GXHor3b5rfi",
        "outputId": "39c1b89e-0fe2-4dd7-9fb2-fde400d623fb"
      },
      "execution_count": null,
      "outputs": [
        {
          "output_type": "stream",
          "name": "stdout",
          "text": [
            "324 361 400 441 484 None\n"
          ]
        }
      ]
    },
    {
      "cell_type": "markdown",
      "source": [
        "33. Write a program to find out all Armstrong numbers present within a given\n",
        "range."
      ],
      "metadata": {
        "id": "YGfndlZo566W"
      }
    },
    {
      "cell_type": "code",
      "source": [
        "def listArmstrongNumber(n,m):\n",
        "  for i in range(n,m+1):\n",
        "    if isArmrstrong(i):\n",
        "      print(i,end=\" \")"
      ],
      "metadata": {
        "id": "jJtDzKDn5xln"
      },
      "execution_count": null,
      "outputs": []
    },
    {
      "cell_type": "code",
      "source": [
        "print(listArmstrongNumber(1,1000))"
      ],
      "metadata": {
        "colab": {
          "base_uri": "https://localhost:8080/"
        },
        "id": "qRdTX7oe69Ci",
        "outputId": "6ce5a685-2b54-48df-b7a4-2990bdfdbbb8"
      },
      "execution_count": null,
      "outputs": [
        {
          "output_type": "stream",
          "name": "stdout",
          "text": [
            "1 153 370 371 407 None\n"
          ]
        }
      ]
    },
    {
      "cell_type": "markdown",
      "source": [
        "34. Write a program to find out all Strong numbers present within a given\n",
        "range."
      ],
      "metadata": {
        "id": "mwGAm5Gq7HEj"
      }
    },
    {
      "cell_type": "code",
      "source": [
        "def listStrongNumber(n,m):\n",
        "  for i in range(n,m+1):\n",
        "    if isStrongNumber(i):\n",
        "      print(i,end=\" \")"
      ],
      "metadata": {
        "id": "T4N9Yolj7CTZ"
      },
      "execution_count": null,
      "outputs": []
    },
    {
      "cell_type": "code",
      "source": [
        "print(listStrongNumber(1,70000))"
      ],
      "metadata": {
        "colab": {
          "base_uri": "https://localhost:8080/"
        },
        "id": "phg6FFRP_9Zz",
        "outputId": "79d98032-1dbb-4709-e275-a7bb0e7061ce"
      },
      "execution_count": null,
      "outputs": [
        {
          "output_type": "stream",
          "name": "stdout",
          "text": [
            "1 2 145 40585 None\n"
          ]
        }
      ]
    },
    {
      "cell_type": "markdown",
      "source": [
        "35. Write a program to find out all Perfect numbers present within a given\n",
        "range."
      ],
      "metadata": {
        "id": "ahW-tRfNCO_1"
      }
    },
    {
      "cell_type": "code",
      "source": [
        "def listPerfectNumber(n,m):\n",
        "  for i in range(n,m+1):\n",
        "    if isPerfectNumber(i):\n",
        "      print(i,end=\" \")"
      ],
      "metadata": {
        "id": "mM1oTqLpAFRV"
      },
      "execution_count": null,
      "outputs": []
    },
    {
      "cell_type": "code",
      "source": [
        "print(listPerfectNumber(1,10000))"
      ],
      "metadata": {
        "colab": {
          "base_uri": "https://localhost:8080/"
        },
        "id": "zj_rE3BVD-3l",
        "outputId": "42267f34-c97c-4ff0-8bb5-64cedcb40da0"
      },
      "execution_count": null,
      "outputs": [
        {
          "output_type": "stream",
          "name": "stdout",
          "text": [
            "6 28 496 8128 None\n"
          ]
        }
      ]
    },
    {
      "cell_type": "markdown",
      "source": [
        "36. Write a program to find out all Harshad numbers present within a given\n",
        "range."
      ],
      "metadata": {
        "id": "lzRPI0g-EIzv"
      }
    },
    {
      "cell_type": "code",
      "source": [
        "def listHarshadNumber(n,m):\n",
        "  for i in range(n,m+1):\n",
        "    if isHarshadNumber(i):\n",
        "      print(i,end=\" \")"
      ],
      "metadata": {
        "id": "tgy7fa84EDQ0"
      },
      "execution_count": null,
      "outputs": []
    },
    {
      "cell_type": "code",
      "source": [
        "print(listHarshadNumber(1,100))"
      ],
      "metadata": {
        "id": "HEz5xHA9I3cZ",
        "colab": {
          "base_uri": "https://localhost:8080/"
        },
        "outputId": "33acc1a9-7095-462c-d00d-7a1d35d4c650"
      },
      "execution_count": null,
      "outputs": [
        {
          "output_type": "stream",
          "name": "stdout",
          "text": [
            "1 2 3 4 5 6 7 8 9 10 12 18 20 21 24 27 30 36 40 42 45 48 50 54 60 63 70 72 80 81 84 90 100 None\n"
          ]
        }
      ]
    },
    {
      "cell_type": "markdown",
      "source": [
        "37. Write a program to find out all Abundant numbers present within a given\n",
        "range."
      ],
      "metadata": {
        "id": "pAVqLJWCJGMe"
      }
    },
    {
      "cell_type": "code",
      "source": [
        "def listAbundantNumber(n,m):\n",
        "  for i in range(n,m+1):\n",
        "    if isAbundantNumber(i):\n",
        "      print(i,end=\" \")"
      ],
      "metadata": {
        "id": "G_jH3VHQI7pz"
      },
      "execution_count": null,
      "outputs": []
    },
    {
      "cell_type": "code",
      "source": [
        "print(listAbundantNumber(1,100))"
      ],
      "metadata": {
        "colab": {
          "base_uri": "https://localhost:8080/"
        },
        "id": "jq4P2d-rJQOR",
        "outputId": "ffacf9cc-7fa1-47f0-a695-de9eb13d9ec3"
      },
      "execution_count": null,
      "outputs": [
        {
          "output_type": "stream",
          "name": "stdout",
          "text": [
            "12 18 20 24 30 36 40 42 48 54 56 60 66 70 72 78 80 84 88 90 96 100 None\n"
          ]
        }
      ]
    },
    {
      "cell_type": "markdown",
      "source": [
        "38. Write a program to find out all Automorphic numbers present within a\n",
        "given range."
      ],
      "metadata": {
        "id": "faIsJcrLJf3V"
      }
    },
    {
      "cell_type": "code",
      "source": [
        "def listAutomorphicNumber(n,m):\n",
        "  for i in range(n,m+1):\n",
        "    if isAutomorphicNumber(i):\n",
        "      print(i,end=\" \")\n"
      ],
      "metadata": {
        "id": "_n_4ov2hJbot"
      },
      "execution_count": null,
      "outputs": []
    },
    {
      "cell_type": "code",
      "source": [
        "print(listAutomorphicNumber(1,1000))"
      ],
      "metadata": {
        "colab": {
          "base_uri": "https://localhost:8080/"
        },
        "id": "df326PJQJsrr",
        "outputId": "197d78a1-e60e-4ed3-eac5-899dadec3559"
      },
      "execution_count": null,
      "outputs": [
        {
          "output_type": "stream",
          "name": "stdout",
          "text": [
            "1 5 6 25 76 376 625 None\n"
          ]
        }
      ]
    },
    {
      "cell_type": "markdown",
      "source": [
        "39. Write a Program to Find out all Magic numbers present within a given\n",
        "range."
      ],
      "metadata": {
        "id": "qHY2Aq5nJ5FK"
      }
    },
    {
      "cell_type": "code",
      "source": [
        "def listMagicNumber(n,m):\n",
        "  for i in range(n,m+1):\n",
        "    if isMagicNumber(i):\n",
        "      print(i,end=\" \")"
      ],
      "metadata": {
        "id": "YXFPDgAKJ0VS"
      },
      "execution_count": null,
      "outputs": []
    },
    {
      "cell_type": "code",
      "source": [
        "print(listMagicNumber(1,10000))"
      ],
      "metadata": {
        "colab": {
          "base_uri": "https://localhost:8080/"
        },
        "id": "38h7OjK1OOTt",
        "outputId": "54ac12d3-146a-49ae-90cb-6e4d994c111b"
      },
      "execution_count": null,
      "outputs": [
        {
          "output_type": "stream",
          "name": "stdout",
          "text": [
            "1 81 1458 1729 None\n"
          ]
        }
      ]
    },
    {
      "cell_type": "markdown",
      "source": [
        "40. Write a Program to Find out all Neon numbers present within a given\n",
        "range."
      ],
      "metadata": {
        "id": "Xco2zw0jPWoZ"
      }
    },
    {
      "cell_type": "code",
      "source": [
        "def listNeonNumber(n,m):\n",
        "  for i in range(n,m+1):\n",
        "    if isNeonNumber(i):\n",
        "      print(i,end=\" \")"
      ],
      "metadata": {
        "id": "eErza4OWOSbw"
      },
      "execution_count": null,
      "outputs": []
    },
    {
      "cell_type": "code",
      "source": [
        "print(listNeonNumber(0,10000))"
      ],
      "metadata": {
        "colab": {
          "base_uri": "https://localhost:8080/"
        },
        "id": "1R5hWm-yPkLs",
        "outputId": "967c49cd-2244-4d3c-8a1b-d4d8c59a6f33"
      },
      "execution_count": null,
      "outputs": [
        {
          "output_type": "stream",
          "name": "stdout",
          "text": [
            "0 1 9 None\n"
          ]
        }
      ]
    },
    {
      "cell_type": "markdown",
      "source": [
        "41. Write a Program to Find out all Spy numbers present within a given range."
      ],
      "metadata": {
        "id": "pl4mNXaDJqI2"
      }
    },
    {
      "cell_type": "code",
      "source": [
        "def listSpyNumber(n,m):\n",
        "  for i in range(n,m+1):\n",
        "    if isSpyNumber(i):\n",
        "      print(i,end=\" \")"
      ],
      "metadata": {
        "id": "M_8MLZW1Pokn"
      },
      "execution_count": null,
      "outputs": []
    },
    {
      "cell_type": "code",
      "source": [
        "print(listSpyNumber(1,1000))"
      ],
      "metadata": {
        "colab": {
          "base_uri": "https://localhost:8080/"
        },
        "id": "nUhak8OqJ6-L",
        "outputId": "40f2d9cd-2023-4971-cdaf-3c154d9e837a"
      },
      "execution_count": null,
      "outputs": [
        {
          "output_type": "stream",
          "name": "stdout",
          "text": [
            "1 2 3 4 5 6 7 8 9 22 123 132 213 231 312 321 None\n"
          ]
        }
      ]
    },
    {
      "cell_type": "markdown",
      "source": [
        "42. Write a Program to Find out all Happy numbers present within a given range."
      ],
      "metadata": {
        "id": "MF3ME2JKKM-E"
      }
    },
    {
      "cell_type": "code",
      "source": [
        "def listHappyNumber(n,m):\n",
        "  for i in range(n,m+1):\n",
        "    if isHappyNumber(i):\n",
        "      print(i,end=\" \")"
      ],
      "metadata": {
        "id": "DDOLPdCxJ_SG"
      },
      "execution_count": null,
      "outputs": []
    },
    {
      "cell_type": "code",
      "source": [
        "print(listHappyNumber(1,100))"
      ],
      "metadata": {
        "colab": {
          "base_uri": "https://localhost:8080/"
        },
        "id": "KCpSsjCcKpzA",
        "outputId": "72c08b08-e944-4fcc-ffaa-a3f8b93786a5"
      },
      "execution_count": null,
      "outputs": [
        {
          "output_type": "stream",
          "name": "stdout",
          "text": [
            "1 7 10 13 19 23 28 31 32 44 49 68 70 79 82 86 91 94 97 100 None\n"
          ]
        }
      ]
    },
    {
      "cell_type": "markdown",
      "source": [
        "43. Write a Program to Find out all Sunny numbers present within a given\n",
        "range."
      ],
      "metadata": {
        "id": "Mz5IzS5KLhot"
      }
    },
    {
      "cell_type": "code",
      "source": [
        "def listSunnyNumber(n,m):\n",
        "  for i in range(n,m+1):\n",
        "    if isSunnyNumber(i):\n",
        "      print(i,end=\" \")"
      ],
      "metadata": {
        "id": "k8FzgUyEKutN"
      },
      "execution_count": null,
      "outputs": []
    },
    {
      "cell_type": "code",
      "source": [
        "print(listSunnyNumber(1,200))"
      ],
      "metadata": {
        "colab": {
          "base_uri": "https://localhost:8080/"
        },
        "id": "Ho8YCpJWL1nO",
        "outputId": "e6553016-49c7-4a03-8253-54a763bfab46"
      },
      "execution_count": null,
      "outputs": [
        {
          "output_type": "stream",
          "name": "stdout",
          "text": [
            "3 8 15 24 35 48 63 80 99 120 143 168 195 None\n"
          ]
        }
      ]
    },
    {
      "cell_type": "markdown",
      "source": [
        "44. Write a Program to Find out all the Disarium numbers present within a\n",
        "given range."
      ],
      "metadata": {
        "id": "uDpefRY5Ou-z"
      }
    },
    {
      "cell_type": "code",
      "source": [
        "def listDisariumNumber(n,m):\n",
        "  for i in range(n,m+1):\n",
        "    if isDisariumNumber(i):\n",
        "      print(i,end=\" \")"
      ],
      "metadata": {
        "id": "LD5Ragf_L5u9"
      },
      "execution_count": null,
      "outputs": []
    },
    {
      "cell_type": "code",
      "source": [
        "print(listDisariumNumber(1,500))"
      ],
      "metadata": {
        "colab": {
          "base_uri": "https://localhost:8080/"
        },
        "id": "ophhf6UUQkn6",
        "outputId": "ffc961c4-c34b-4a47-c13c-9ed9d146f5e7"
      },
      "execution_count": null,
      "outputs": [
        {
          "output_type": "stream",
          "name": "stdout",
          "text": [
            "1 2 3 4 5 6 7 8 9 89 135 175 None\n"
          ]
        }
      ]
    },
    {
      "cell_type": "markdown",
      "source": [
        "45. Write a Program to Find out all Pronic numbers present within a given\n",
        "range."
      ],
      "metadata": {
        "id": "O7agLLPvQylL"
      }
    },
    {
      "cell_type": "code",
      "source": [
        "def listPronicNumber(n,m):\n",
        "  for i in range(n,m+1):\n",
        "    if isPronicNumber(i):\n",
        "      print(i,end=\" \")"
      ],
      "metadata": {
        "id": "1YevefFKQqvT"
      },
      "execution_count": null,
      "outputs": []
    },
    {
      "cell_type": "code",
      "source": [
        "print(listPronicNumber(1,250))"
      ],
      "metadata": {
        "colab": {
          "base_uri": "https://localhost:8080/"
        },
        "id": "K1dimzmlQ8b4",
        "outputId": "6f0350e9-981b-4a8b-a44c-59ebacec0f89"
      },
      "execution_count": null,
      "outputs": [
        {
          "output_type": "stream",
          "name": "stdout",
          "text": [
            "2 6 12 20 30 42 56 72 90 110 132 156 182 210 240 None\n"
          ]
        }
      ]
    },
    {
      "cell_type": "markdown",
      "source": [
        "46. Write a Program to Find out all Trimorphic numbers present within a given\n",
        "range."
      ],
      "metadata": {
        "id": "lsnIcgzoiMK_"
      }
    },
    {
      "cell_type": "code",
      "source": [
        "def listTrimorphicNUmber(n,m):\n",
        "  for i in range(n,m+1):\n",
        "    if isTrimorphicNumber(i):\n",
        "      print(i,end=\" \")"
      ],
      "metadata": {
        "id": "rV7STO8aRCVK"
      },
      "execution_count": null,
      "outputs": []
    },
    {
      "cell_type": "code",
      "source": [
        "print(listTrimorphicNUmber(1,100))"
      ],
      "metadata": {
        "colab": {
          "base_uri": "https://localhost:8080/"
        },
        "id": "8UwS1MBLiiNv",
        "outputId": "a7705c36-08e9-4f72-dca1-40175744789b"
      },
      "execution_count": null,
      "outputs": [
        {
          "output_type": "stream",
          "name": "stdout",
          "text": [
            "1 4 5 6 9 24 25 49 51 75 76 99 None\n"
          ]
        }
      ]
    },
    {
      "cell_type": "markdown",
      "source": [
        "47. Write a Program to Find out all Evil numbers present within a given range."
      ],
      "metadata": {
        "id": "VzUDRjR1kkvv"
      }
    },
    {
      "cell_type": "code",
      "source": [
        "def listEvilNumber(n,m):\n",
        "  for i in range(n,m+1):\n",
        "    if isEvilNumber(i):\n",
        "      print(i,end=\" \")"
      ],
      "metadata": {
        "id": "bRWoAaw_iu4_"
      },
      "execution_count": null,
      "outputs": []
    },
    {
      "cell_type": "code",
      "source": [
        "print(listEvilNumber(1,100))"
      ],
      "metadata": {
        "colab": {
          "base_uri": "https://localhost:8080/"
        },
        "id": "2K9Q_rS7lMBU",
        "outputId": "2d509b81-5f5e-499a-a019-ebcbd309efe3"
      },
      "execution_count": null,
      "outputs": [
        {
          "output_type": "stream",
          "name": "stdout",
          "text": [
            "3 5 6 9 10 12 15 17 18 20 23 24 27 29 30 33 34 36 39 40 43 45 46 48 51 53 54 57 58 60 63 65 66 68 71 72 75 77 78 80 83 85 86 89 90 92 95 96 99 None\n"
          ]
        }
      ]
    },
    {
      "cell_type": "markdown",
      "source": [
        "48. Write a program to Find the nth palindrome number."
      ],
      "metadata": {
        "id": "ePNAJmOZmE9m"
      }
    },
    {
      "cell_type": "code",
      "source": [
        "def nthPalindromeNUmber(n):\n",
        "  nth=0\n",
        "  c=0\n",
        "  num=1\n",
        "  while c!=n:\n",
        "    if(isPalindrome(num)):\n",
        "      c = c+1\n",
        "      nth=num\n",
        "    num+=1\n",
        "  return nth"
      ],
      "metadata": {
        "id": "gRg8SFrnlTBf"
      },
      "execution_count": null,
      "outputs": []
    },
    {
      "cell_type": "code",
      "source": [
        "print(nthPalindromeNUmber(20))"
      ],
      "metadata": {
        "colab": {
          "base_uri": "https://localhost:8080/"
        },
        "id": "D0YGpwsPtT_b",
        "outputId": "20edcfcf-b8ae-4e4d-b8d0-2d7ab435e18a"
      },
      "execution_count": null,
      "outputs": [
        {
          "output_type": "stream",
          "name": "stdout",
          "text": [
            "111\n"
          ]
        }
      ]
    },
    {
      "cell_type": "markdown",
      "source": [
        "49. Write a program to find the nth prime number."
      ],
      "metadata": {
        "id": "_sHdCjCzlQ84"
      }
    },
    {
      "cell_type": "code",
      "source": [
        "def nthPrimeNumber(n):\n",
        "  nth=0\n",
        "  c=0\n",
        "  num=2\n",
        "  while c!=n:\n",
        "    if(is_prime(num)):\n",
        "      c = c+1\n",
        "      nth=num\n",
        "    num+=1\n",
        "  return nth"
      ],
      "metadata": {
        "id": "Yp_2AeF6tad4"
      },
      "execution_count": null,
      "outputs": []
    },
    {
      "cell_type": "code",
      "source": [
        "print(nthPrimeNumber(13))"
      ],
      "metadata": {
        "colab": {
          "base_uri": "https://localhost:8080/"
        },
        "id": "1LzDOewZl8zs",
        "outputId": "fe21d753-c1d6-4cbe-9edf-9c9eb6288601"
      },
      "execution_count": null,
      "outputs": [
        {
          "output_type": "stream",
          "name": "stdout",
          "text": [
            "41\n"
          ]
        }
      ]
    },
    {
      "cell_type": "markdown",
      "source": [
        "50. Write a Program to Find nth Perfect Square Number."
      ],
      "metadata": {
        "id": "qCUEUbb1mqek"
      }
    },
    {
      "cell_type": "code",
      "source": [
        "def nthPerfectSquareNumber(n):\n",
        "  nth=0\n",
        "  c=n\n",
        "  num=1\n",
        "  while c!=0:\n",
        "    if(isPerfectSquare(num)):\n",
        "      c = c-1\n",
        "      nth=num\n",
        "    num+=1\n",
        "  return nth"
      ],
      "metadata": {
        "id": "z7sIQPoemFry"
      },
      "execution_count": null,
      "outputs": []
    },
    {
      "cell_type": "code",
      "source": [
        "print(nthPerfectSquareNumber(15))"
      ],
      "metadata": {
        "colab": {
          "base_uri": "https://localhost:8080/"
        },
        "id": "PzURD8SNnF9z",
        "outputId": "aa9588bf-2ca2-4b11-cc49-340ae38d8b51"
      },
      "execution_count": null,
      "outputs": [
        {
          "output_type": "stream",
          "name": "stdout",
          "text": [
            "225\n"
          ]
        }
      ]
    },
    {
      "cell_type": "markdown",
      "source": [
        "51. Write a Program to Find nth Armstrong Number."
      ],
      "metadata": {
        "id": "NBnFXzAZgQ-J"
      }
    },
    {
      "cell_type": "code",
      "source": [
        "def nthArmstrongNumber(n):\n",
        "  nth=0\n",
        "  c=n\n",
        "  num=1\n",
        "  while c!=0:\n",
        "    if(isArmrstrong(num)):\n",
        "      c=c-1\n",
        "      nth=num\n",
        "    num=num+1\n",
        "  return nth"
      ],
      "metadata": {
        "id": "QiAI-bO5nJm7"
      },
      "execution_count": null,
      "outputs": []
    },
    {
      "cell_type": "code",
      "source": [
        "print(nthArmstrongNumber(7)) # take so much time"
      ],
      "metadata": {
        "id": "tdIPGxiUzXs0"
      },
      "execution_count": null,
      "outputs": []
    },
    {
      "cell_type": "markdown",
      "source": [
        "52. Write a program to find the nth strong number."
      ],
      "metadata": {
        "id": "kX_evM6SQ0iT"
      }
    },
    {
      "cell_type": "code",
      "source": [
        "def nthStrongNumber(n):\n",
        "  nth=0\n",
        "  c=n\n",
        "  num=1\n",
        "  while c!=0:\n",
        "    if(isStrongNumber(num)):\n",
        "      c=c-1\n",
        "      nth=num\n",
        "    num=num+1\n",
        "  return nth"
      ],
      "metadata": {
        "id": "zObuH-XFqWM9"
      },
      "execution_count": null,
      "outputs": []
    },
    {
      "cell_type": "code",
      "source": [
        "print(nthStrongNumber(3))"
      ],
      "metadata": {
        "colab": {
          "base_uri": "https://localhost:8080/"
        },
        "id": "_Y8SZOVNRDbC",
        "outputId": "b4483024-f638-465f-a552-df02e53eb6a4"
      },
      "execution_count": null,
      "outputs": [
        {
          "output_type": "stream",
          "name": "stdout",
          "text": [
            "145\n"
          ]
        }
      ]
    },
    {
      "cell_type": "markdown",
      "source": [
        "53. Write a program to find the nth perfect number."
      ],
      "metadata": {
        "id": "TBdB05pmSvZb"
      }
    },
    {
      "cell_type": "code",
      "source": [
        "def nthPerfectNumber(n):\n",
        "  nth=0\n",
        "  c=n\n",
        "  num=1\n",
        "  while c!=0:\n",
        "    if(isPerfectNumber(num)):\n",
        "      c=c-1\n",
        "      nth=num\n",
        "    num=num+1\n",
        "  return nth"
      ],
      "metadata": {
        "id": "NSytGg0PRH3x"
      },
      "execution_count": null,
      "outputs": []
    },
    {
      "cell_type": "code",
      "source": [
        "print(nthPerfectNumber(3))"
      ],
      "metadata": {
        "colab": {
          "base_uri": "https://localhost:8080/"
        },
        "id": "EY3tDcviS31R",
        "outputId": "764a78ef-0a63-447a-fa94-303429302ed1"
      },
      "execution_count": null,
      "outputs": [
        {
          "output_type": "stream",
          "name": "stdout",
          "text": [
            "496\n"
          ]
        }
      ]
    },
    {
      "cell_type": "markdown",
      "source": [
        "54. Write a program to find the nth Hashed number."
      ],
      "metadata": {
        "id": "km2pdhC2VGZ1"
      }
    },
    {
      "cell_type": "markdown",
      "source": [
        "55. Write a Program to Find nth Abundant Number."
      ],
      "metadata": {
        "id": "gvrqhKXrVHkk"
      }
    },
    {
      "cell_type": "code",
      "source": [
        "def nthAbundantNumber(n):\n",
        "  nth=0\n",
        "  c=n\n",
        "  num=1\n",
        "  while c!=0:\n",
        "    if(isAbundantNumber(num)):\n",
        "      c=c-1\n",
        "      nth=num\n",
        "    num=num+1\n",
        "  return nth"
      ],
      "metadata": {
        "id": "BUDE1V8BS-Cn"
      },
      "execution_count": null,
      "outputs": []
    },
    {
      "cell_type": "code",
      "source": [
        "print(nthAbundantNumber(3))"
      ],
      "metadata": {
        "colab": {
          "base_uri": "https://localhost:8080/"
        },
        "id": "6F8MRhKZVPKS",
        "outputId": "18c053f3-fc46-47ab-d97d-cea098b7d06a"
      },
      "execution_count": null,
      "outputs": [
        {
          "output_type": "stream",
          "name": "stdout",
          "text": [
            "20\n"
          ]
        }
      ]
    },
    {
      "cell_type": "markdown",
      "source": [
        "56. Write a program to find the nth automorphic number."
      ],
      "metadata": {
        "id": "-cLn0sKMVaGe"
      }
    },
    {
      "cell_type": "code",
      "source": [
        "def nthAutomorphicNumber(n):\n",
        "  nth=0\n",
        "  c=n\n",
        "  num=1\n",
        "  while c!=0:\n",
        "    if(isAutomorphicNumber(num)):\n",
        "      c=c-1\n",
        "      nth=num\n",
        "    num=num+1\n",
        "  return nth"
      ],
      "metadata": {
        "id": "qvxGoXntVv8D"
      },
      "execution_count": null,
      "outputs": []
    },
    {
      "cell_type": "code",
      "source": [
        "print(nthAutomorphicNumber(4))"
      ],
      "metadata": {
        "colab": {
          "base_uri": "https://localhost:8080/"
        },
        "id": "mjFE0uAZV-hv",
        "outputId": "48590700-de63-4b15-dabf-c4e24a0c3c37"
      },
      "execution_count": null,
      "outputs": [
        {
          "output_type": "stream",
          "name": "stdout",
          "text": [
            "25\n"
          ]
        }
      ]
    },
    {
      "cell_type": "markdown",
      "source": [
        "57. Write a Program to find the nth Magic Number."
      ],
      "metadata": {
        "id": "aFDfhenwVbyD"
      }
    },
    {
      "cell_type": "code",
      "source": [
        "def nthMagicNumber(n):\n",
        "  nth=0\n",
        "  c=n\n",
        "  num=1\n",
        "  while c!=0:\n",
        "    if(isMagicNumber(num)):\n",
        "      c=c-1\n",
        "      nth=num\n",
        "    num=num+1\n",
        "  return nth"
      ],
      "metadata": {
        "id": "Lm5gsJXFVxcD"
      },
      "execution_count": null,
      "outputs": []
    },
    {
      "cell_type": "code",
      "source": [
        "print(nthMagicNumber(3))"
      ],
      "metadata": {
        "colab": {
          "base_uri": "https://localhost:8080/"
        },
        "id": "8GcxYC8hWJFa",
        "outputId": "d5ff81f8-46c9-4bd1-d7cd-3527a7992586"
      },
      "execution_count": null,
      "outputs": [
        {
          "output_type": "stream",
          "name": "stdout",
          "text": [
            "1458\n"
          ]
        }
      ]
    },
    {
      "cell_type": "markdown",
      "source": [
        "58. Write a Program to Find nth Neon Number."
      ],
      "metadata": {
        "id": "mNYsmu1SVeTe"
      }
    },
    {
      "cell_type": "code",
      "source": [
        "def nthNeonNumber(n):\n",
        "  nth=0\n",
        "  c=n\n",
        "  num=1\n",
        "  while c!=0:\n",
        "    if(isNeonNumber(num)):\n",
        "      c=c-1\n",
        "      nth=num\n",
        "    num=num+1\n",
        "  return nth"
      ],
      "metadata": {
        "id": "6mG5hsJiVyVH"
      },
      "execution_count": null,
      "outputs": []
    },
    {
      "cell_type": "code",
      "source": [
        "print(nthNeonNumber(2))"
      ],
      "metadata": {
        "colab": {
          "base_uri": "https://localhost:8080/"
        },
        "id": "kyAs6xGSWe_f",
        "outputId": "e9427ac3-7237-4a3e-8b6f-47677f0dd5e7"
      },
      "execution_count": null,
      "outputs": [
        {
          "output_type": "stream",
          "name": "stdout",
          "text": [
            "9\n"
          ]
        }
      ]
    },
    {
      "cell_type": "markdown",
      "source": [
        "59. Write a Program to Find nth Spy Number."
      ],
      "metadata": {
        "id": "OS1ubIGFVgRw"
      }
    },
    {
      "cell_type": "code",
      "source": [
        "def nthSpyNumber(n):\n",
        "  nth=0\n",
        "  c=n\n",
        "  num=1\n",
        "  while c!=0:\n",
        "    if(isSpyNumber(num)):\n",
        "      c=c-1\n",
        "      nth=num\n",
        "    num=num+1\n",
        "  return nth"
      ],
      "metadata": {
        "id": "eu0iCr24VzGG"
      },
      "execution_count": null,
      "outputs": []
    },
    {
      "cell_type": "code",
      "source": [
        "print(nthSpyNumber(15))"
      ],
      "metadata": {
        "colab": {
          "base_uri": "https://localhost:8080/"
        },
        "id": "blLPwM9GWv8v",
        "outputId": "2113ec20-af68-4f63-d93a-55047c8f2de5"
      },
      "execution_count": null,
      "outputs": [
        {
          "output_type": "stream",
          "name": "stdout",
          "text": [
            "312\n"
          ]
        }
      ]
    },
    {
      "cell_type": "markdown",
      "source": [
        "60. Write a Program to Find nth Happy Number."
      ],
      "metadata": {
        "id": "mwZ4ZD2BVil4"
      }
    },
    {
      "cell_type": "code",
      "source": [
        "def nthHappyNumber(n):\n",
        "  nth=0\n",
        "  c=n\n",
        "  num=1\n",
        "  while c!=0:\n",
        "    if(isHappyNumber(num)):\n",
        "      c=c-1\n",
        "      nth=num\n",
        "    num=num+1\n",
        "  return nth"
      ],
      "metadata": {
        "id": "z242SiY0V0B8"
      },
      "execution_count": null,
      "outputs": []
    },
    {
      "cell_type": "code",
      "source": [
        "print(nthHappyNumber(10))"
      ],
      "metadata": {
        "colab": {
          "base_uri": "https://localhost:8080/"
        },
        "id": "ddWp3CorW8_i",
        "outputId": "4fec32ab-763e-4204-d6e3-c3d548f84d3b"
      },
      "execution_count": null,
      "outputs": [
        {
          "output_type": "stream",
          "name": "stdout",
          "text": [
            "44\n"
          ]
        }
      ]
    },
    {
      "cell_type": "markdown",
      "source": [
        "61. Write a Program to Find nth Sunny Number."
      ],
      "metadata": {
        "id": "mSb-9Y_oVkbc"
      }
    },
    {
      "cell_type": "code",
      "source": [
        "def nthSunnyNumber(n):\n",
        "  nth=0\n",
        "  c=n\n",
        "  num=1\n",
        "  while c!=0:\n",
        "    if(isSunnyNumber(num)):\n",
        "      c=c-1\n",
        "      nth=num\n",
        "    num=num+1\n",
        "  return nth"
      ],
      "metadata": {
        "id": "0WD9urbAV00K"
      },
      "execution_count": null,
      "outputs": []
    },
    {
      "cell_type": "code",
      "source": [
        "print(nthSunnyNumber(10))"
      ],
      "metadata": {
        "colab": {
          "base_uri": "https://localhost:8080/"
        },
        "id": "Ad1OJ3QSX1kS",
        "outputId": "be5afb5e-df7a-4cab-deed-67b7fee39dcf"
      },
      "execution_count": null,
      "outputs": [
        {
          "output_type": "stream",
          "name": "stdout",
          "text": [
            "120\n"
          ]
        }
      ]
    },
    {
      "cell_type": "markdown",
      "source": [
        "62. Write a Program to Find nth Disarium Number."
      ],
      "metadata": {
        "id": "5-7SJvIcVmW8"
      }
    },
    {
      "cell_type": "code",
      "source": [
        "def nthDisariumNumber(n):\n",
        "  nth=0\n",
        "  c=n\n",
        "  num=1\n",
        "  while c!=0:\n",
        "    if(isDisariumNumber(num)):\n",
        "      c=c-1\n",
        "      nth=num\n",
        "    num=num+1\n",
        "  return nth"
      ],
      "metadata": {
        "id": "KfKezpASV1kY"
      },
      "execution_count": null,
      "outputs": []
    },
    {
      "cell_type": "code",
      "source": [
        "print(nthDisariumNumber(12))"
      ],
      "metadata": {
        "colab": {
          "base_uri": "https://localhost:8080/"
        },
        "id": "HueucYgDYDHw",
        "outputId": "d3406557-6fcb-4172-da49-bb31d9e4c46b"
      },
      "execution_count": null,
      "outputs": [
        {
          "output_type": "stream",
          "name": "stdout",
          "text": [
            "175\n"
          ]
        }
      ]
    },
    {
      "cell_type": "markdown",
      "source": [
        "63. Write a Program to Find nth Pronic Number."
      ],
      "metadata": {
        "id": "RaV0ebRHVoXb"
      }
    },
    {
      "cell_type": "code",
      "source": [
        "def nthPronicNumber(n):\n",
        "  nth=0\n",
        "  c=n\n",
        "  num=1\n",
        "  while c!=0:\n",
        "    if(isPronicNumber(num)):\n",
        "      c=c-1\n",
        "      nth=num\n",
        "    num=num+1\n",
        "  return nth"
      ],
      "metadata": {
        "id": "yn2xGBMTV2Pm"
      },
      "execution_count": null,
      "outputs": []
    },
    {
      "cell_type": "code",
      "source": [
        "print(nthPronicNumber(10))"
      ],
      "metadata": {
        "colab": {
          "base_uri": "https://localhost:8080/"
        },
        "id": "dAphgs0gYOOG",
        "outputId": "4139b226-6967-4dea-b4a0-c972870e63a0"
      },
      "execution_count": null,
      "outputs": [
        {
          "output_type": "stream",
          "name": "stdout",
          "text": [
            "110\n"
          ]
        }
      ]
    },
    {
      "cell_type": "markdown",
      "source": [
        "64. Write a Program to Find nth Trimorphic Number."
      ],
      "metadata": {
        "id": "nsjhMW9sVoMQ"
      }
    },
    {
      "cell_type": "code",
      "source": [
        "def nthTrimorphicNumber(n):\n",
        "  nth=0\n",
        "  c=n\n",
        "  num=1\n",
        "  while c!=0:\n",
        "    if(isTrimorphicNumber(num)):\n",
        "      c=c-1\n",
        "      nth=num\n",
        "    num=num+1\n",
        "  return nth"
      ],
      "metadata": {
        "id": "qiOvao18V2-L"
      },
      "execution_count": null,
      "outputs": []
    },
    {
      "cell_type": "code",
      "source": [
        "print(nthTrimorphicNumber(10))"
      ],
      "metadata": {
        "colab": {
          "base_uri": "https://localhost:8080/"
        },
        "id": "ZpO8NtqxYV-_",
        "outputId": "cc26db98-426e-45be-f9db-c9e6c54e34dd"
      },
      "execution_count": null,
      "outputs": [
        {
          "output_type": "stream",
          "name": "stdout",
          "text": [
            "75\n"
          ]
        }
      ]
    },
    {
      "cell_type": "markdown",
      "source": [
        "65. Write a Program to Find nth Evil Number."
      ],
      "metadata": {
        "id": "Se-jGE6AVsba"
      }
    },
    {
      "cell_type": "code",
      "source": [
        "def nthEvilNumber(n):\n",
        "  nth=0\n",
        "  c=n\n",
        "  num=1\n",
        "  while c!=0:\n",
        "    if(isEvilNumber(num)):\n",
        "      c=c-1\n",
        "      nth=num\n",
        "    num=num+1\n",
        "  return nth"
      ],
      "metadata": {
        "id": "KRGajjHUVSHy"
      },
      "execution_count": null,
      "outputs": []
    },
    {
      "cell_type": "code",
      "source": [
        "print(nthEvilNumber(10))"
      ],
      "metadata": {
        "colab": {
          "base_uri": "https://localhost:8080/"
        },
        "id": "0ynHI_dLV3x3",
        "outputId": "044cab62-3449-4df3-cfa8-855a73d76e96"
      },
      "execution_count": null,
      "outputs": [
        {
          "output_type": "stream",
          "name": "stdout",
          "text": [
            "20\n"
          ]
        }
      ]
    },
    {
      "cell_type": "markdown",
      "source": [
        "66. Write a program to Calculate Reverse a number using Recursion."
      ],
      "metadata": {
        "id": "-6L9pNumw67H"
      }
    },
    {
      "cell_type": "code",
      "source": [
        "def reverseRecursion(n,r=0):\n",
        "  if n==0:\n",
        "    return r\n",
        "  else:\n",
        "    return reverseRecursion(n//10,(r*10)+(n%10))"
      ],
      "metadata": {
        "id": "0Znq5IxS2Wor"
      },
      "execution_count": null,
      "outputs": []
    },
    {
      "cell_type": "code",
      "source": [
        "print(reverseRecursion(2565))"
      ],
      "metadata": {
        "colab": {
          "base_uri": "https://localhost:8080/"
        },
        "id": "HX7g366y3Qyd",
        "outputId": "83f04b63-ddc7-4c14-972c-a9bd04137108"
      },
      "execution_count": null,
      "outputs": [
        {
          "output_type": "stream",
          "name": "stdout",
          "text": [
            "5652\n"
          ]
        }
      ]
    },
    {
      "cell_type": "markdown",
      "source": [
        "67. Write a program to find the Generic root of a number."
      ],
      "metadata": {
        "id": "XP_fp1nYw86Z"
      }
    },
    {
      "cell_type": "code",
      "source": [
        "def genericRoot(n):\n",
        "  sum=0\n",
        "  while len(n)!=1:\n",
        "    sum = sumOfDigits(n)\n",
        "    if(sum>10):\n",
        "      n=sum\n",
        "    else:\n",
        "      break\n",
        "  return sum\n",
        "\n"
      ],
      "metadata": {
        "id": "zQPfZ6_qYp9Q"
      },
      "execution_count": null,
      "outputs": []
    },
    {
      "cell_type": "code",
      "source": [
        "print(genericRoot(258457))"
      ],
      "metadata": {
        "colab": {
          "base_uri": "https://localhost:8080/"
        },
        "id": "oHn8eN9n1RV3",
        "outputId": "f83b82ce-ee7f-4122-a4e2-fcd4d988dbbb"
      },
      "execution_count": null,
      "outputs": [
        {
          "output_type": "stream",
          "name": "stdout",
          "text": [
            "4\n"
          ]
        }
      ]
    },
    {
      "cell_type": "markdown",
      "source": [
        "68. Write a program to find out how many 1 and 0 in a given number."
      ],
      "metadata": {
        "id": "t9Xp-TV0NFHD"
      }
    },
    {
      "cell_type": "code",
      "source": [
        "def numberOfOnesTwos(n):\n",
        "  one=0\n",
        "  zero=0\n",
        "  while n:\n",
        "    rem = n%10\n",
        "    n=n//10\n",
        "    if rem == 1:\n",
        "      one+=1\n",
        "\n",
        "    if rem == 0:\n",
        "      zero+=1\n",
        "  return one,zero"
      ],
      "metadata": {
        "id": "rRg-w9gMNGLm"
      },
      "execution_count": null,
      "outputs": []
    },
    {
      "cell_type": "code",
      "source": [
        "print(numberOfOnesTwos(10101011))"
      ],
      "metadata": {
        "colab": {
          "base_uri": "https://localhost:8080/"
        },
        "id": "ZfdZGo00OiUt",
        "outputId": "5caa3a6b-074b-4a48-cbfa-eb73f2267299"
      },
      "execution_count": null,
      "outputs": [
        {
          "output_type": "stream",
          "name": "stdout",
          "text": [
            "(5, 3)\n"
          ]
        }
      ]
    },
    {
      "cell_type": "markdown",
      "source": [
        "69. Write a program to add between 2 numbers without using arithmetic\n",
        "operators."
      ],
      "metadata": {
        "id": "gFEX7ESpPtR0"
      }
    },
    {
      "cell_type": "code",
      "source": [
        "def addTwoNumbersNotArithmetic(n,m):\n",
        "    while m != 0:\n",
        "       c= n & m\n",
        "       n= n ^ m\n",
        "       m=c << 1\n",
        "    return n"
      ],
      "metadata": {
        "id": "GhpINu88PucW"
      },
      "execution_count": null,
      "outputs": []
    },
    {
      "cell_type": "code",
      "source": [
        "addTwoNumbersNotArithmetic(70,30)"
      ],
      "metadata": {
        "colab": {
          "base_uri": "https://localhost:8080/"
        },
        "id": "UMsf42k-EWqO",
        "outputId": "a79c35c0-199d-42b1-a5c6-e344553724aa"
      },
      "execution_count": null,
      "outputs": [
        {
          "output_type": "execute_result",
          "data": {
            "text/plain": [
              "100"
            ]
          },
          "metadata": {},
          "execution_count": 21
        }
      ]
    },
    {
      "cell_type": "markdown",
      "source": [
        "70. Write a program to find the largest digit in a number."
      ],
      "metadata": {
        "id": "kdrlSvyIyLtz"
      }
    },
    {
      "cell_type": "code",
      "source": [
        "def largestDigitInNumber(n):\n",
        "  max=0\n",
        "  while n!=0:\n",
        "    rem = n%10\n",
        "    n = n//10\n",
        "    if(max<rem):\n",
        "      max=rem\n",
        "  return max"
      ],
      "metadata": {
        "id": "Au0JxQrYyME0"
      },
      "execution_count": null,
      "outputs": []
    },
    {
      "cell_type": "code",
      "source": [
        "print(largestDigitInNumber(5892145289))"
      ],
      "metadata": {
        "colab": {
          "base_uri": "https://localhost:8080/"
        },
        "id": "MtsEa_XJy0Ox",
        "outputId": "c01af8d0-80ed-4158-b7fd-24a420cbd371"
      },
      "execution_count": null,
      "outputs": [
        {
          "output_type": "stream",
          "name": "stdout",
          "text": [
            "9\n"
          ]
        }
      ]
    },
    {
      "cell_type": "markdown",
      "source": [
        "71. Write a program to find the smallest digit in a number."
      ],
      "metadata": {
        "id": "qcD1S6e7zHZq"
      }
    },
    {
      "cell_type": "code",
      "source": [
        "def smallestDigitInNumber(n):\n",
        "  min=n%10\n",
        "  while n!=0:\n",
        "    rem = n%10\n",
        "    n = n//10\n",
        "    if(min>rem):\n",
        "      min=rem\n",
        "\n",
        "  return min"
      ],
      "metadata": {
        "id": "MgJoUhTSy8Ht"
      },
      "execution_count": null,
      "outputs": []
    },
    {
      "cell_type": "code",
      "source": [
        "print(smallestDigitInNumber(261589525))"
      ],
      "metadata": {
        "colab": {
          "base_uri": "https://localhost:8080/"
        },
        "id": "53ct8RtezV7n",
        "outputId": "299895a9-1cc9-4b02-f7ed-102133766a50"
      },
      "execution_count": null,
      "outputs": [
        {
          "output_type": "stream",
          "name": "stdout",
          "text": [
            "1\n"
          ]
        }
      ]
    },
    {
      "cell_type": "markdown",
      "source": [
        "72. Write a program to calculate Amicable pairs."
      ],
      "metadata": {
        "id": "z6QvlQAIXqBR"
      }
    },
    {
      "cell_type": "code",
      "source": [
        "def isAmicablePairs(n,m):\n",
        "  num1 = properDivisorsSum(m)\n",
        "  num2 = properDivisorsSum(n)\n",
        "  if num1==n and num2==m:\n",
        "    return True\n",
        "  return False"
      ],
      "metadata": {
        "id": "dgSLxjWQzZN4"
      },
      "execution_count": null,
      "outputs": []
    },
    {
      "cell_type": "code",
      "source": [
        "print(isAmicablePairs(5020,5564))"
      ],
      "metadata": {
        "colab": {
          "base_uri": "https://localhost:8080/"
        },
        "id": "ims9VKd8YAuT",
        "outputId": "11c37bf7-f877-4aa1-d227-56241cf56d69"
      },
      "execution_count": null,
      "outputs": [
        {
          "output_type": "stream",
          "name": "stdout",
          "text": [
            "True\n"
          ]
        }
      ]
    },
    {
      "cell_type": "markdown",
      "source": [
        "73. Write a program to find the 2nd largest digit in a given"
      ],
      "metadata": {
        "id": "tyFzQ1wWZlha"
      }
    },
    {
      "cell_type": "code",
      "source": [
        "def secLargestDigitInNumber(n):\n",
        "  max=0\n",
        "  sec_max=0\n",
        "  while n:\n",
        "    rem = n%10\n",
        "    if max<rem:\n",
        "      sec_max=max\n",
        "      max=rem\n",
        "    elif rem>=sec_max:\n",
        "      sec_max=rem\n",
        "    n=n//10\n",
        "  return sec_max"
      ],
      "metadata": {
        "id": "6sA1ykg4YG8e"
      },
      "execution_count": null,
      "outputs": []
    },
    {
      "cell_type": "code",
      "source": [
        "print(secLargestDigitInNumber(96584))"
      ],
      "metadata": {
        "colab": {
          "base_uri": "https://localhost:8080/"
        },
        "id": "MF0cnP-Rh0kO",
        "outputId": "97e6453d-89bf-4200-d7b2-1fcc162bbff2"
      },
      "execution_count": null,
      "outputs": [
        {
          "output_type": "stream",
          "name": "stdout",
          "text": [
            "8\n"
          ]
        }
      ]
    },
    {
      "cell_type": "markdown",
      "source": [
        "74. Write a program to find the 2nd smallest digit in a given number."
      ],
      "metadata": {
        "id": "jfXmBgXG5nRJ"
      }
    },
    {
      "cell_type": "code",
      "source": [
        "def secSmallestDigitInNumber(n):\n",
        "  min=9\n",
        "  sec_min=8\n",
        "  while n:\n",
        "    rem=n%10\n",
        "    if min>rem:\n",
        "      sec_min = min\n",
        "      min = rem\n",
        "    elif rem<=sec_min:\n",
        "      sec_min=rem\n",
        "\n",
        "    n = n//10\n",
        "  return sec_min"
      ],
      "metadata": {
        "id": "CmYZZxprh4uW"
      },
      "execution_count": null,
      "outputs": []
    },
    {
      "cell_type": "code",
      "source": [
        "print(secSmallestDigitInNumber(513685458))"
      ],
      "metadata": {
        "colab": {
          "base_uri": "https://localhost:8080/"
        },
        "id": "Ie_6ndDZ7glm",
        "outputId": "fa224148-63a2-4d33-f1cb-05abfea38d36"
      },
      "execution_count": null,
      "outputs": [
        {
          "output_type": "stream",
          "name": "stdout",
          "text": [
            "3\n"
          ]
        }
      ]
    },
    {
      "cell_type": "markdown",
      "source": [
        "75. Write a program to find the number of odd and even digits in the given\n",
        "number."
      ],
      "metadata": {
        "id": "jS3-cZwU8TKk"
      }
    },
    {
      "cell_type": "code",
      "source": [
        "def numberOfEvenOddDigit(n):\n",
        "  even = 0\n",
        "  odd = 0\n",
        "  while n:\n",
        "    rem=n%10\n",
        "    if rem%2==0:\n",
        "      even+=1\n",
        "    else:\n",
        "      odd+=1\n",
        "    n=n//10\n",
        "  return even,odd"
      ],
      "metadata": {
        "id": "-xtF0Zlc7kdp"
      },
      "execution_count": null,
      "outputs": []
    },
    {
      "cell_type": "code",
      "source": [
        "print(numberOfEvenOddDigit(768217619))"
      ],
      "metadata": {
        "colab": {
          "base_uri": "https://localhost:8080/"
        },
        "id": "U_lUQpiL8onI",
        "outputId": "6e46b600-ddf2-422f-a773-534533e9e7e7"
      },
      "execution_count": null,
      "outputs": [
        {
          "output_type": "stream",
          "name": "stdout",
          "text": [
            "(4, 5)\n"
          ]
        }
      ]
    },
    {
      "cell_type": "markdown",
      "source": [
        "76. Write a program to check whether a given number is an ugly number."
      ],
      "metadata": {
        "id": "M6ytUBWf9zQo"
      }
    },
    {
      "cell_type": "code",
      "source": [
        "def isUglyNumber(n):\n",
        "    if n <= 0:\n",
        "        return False\n",
        "\n",
        "    for factor in [2, 3, 5]:\n",
        "        while n % factor == 0:\n",
        "            n //= factor\n",
        "\n",
        "    return n==1\n"
      ],
      "metadata": {
        "id": "hmjn-lyB854M"
      },
      "execution_count": null,
      "outputs": []
    },
    {
      "cell_type": "code",
      "source": [
        "isUglyNumber(5832)"
      ],
      "metadata": {
        "colab": {
          "base_uri": "https://localhost:8080/"
        },
        "id": "MusRqVilq3R4",
        "outputId": "3081f154-9604-46ef-fe6e-62c91a6ce1b9"
      },
      "execution_count": null,
      "outputs": [
        {
          "output_type": "execute_result",
          "data": {
            "text/plain": [
              "True"
            ]
          },
          "metadata": {},
          "execution_count": 25
        }
      ]
    },
    {
      "cell_type": "markdown",
      "source": [
        "77. Write a Java program to classify Abundant, deficient and perfect number between 1 to 10,000."
      ],
      "metadata": {
        "id": "Dh93DZyumNg5"
      }
    },
    {
      "cell_type": "code",
      "source": [
        "def classify_numbers(start, end):\n",
        "    count_deficient_no = 0\n",
        "    count_perfect_no = 0\n",
        "    count_abundant_no = 0\n",
        "\n",
        "    for i in range(start, end + 1):\n",
        "        divs_sum = properDivisorsSum(i)\n",
        "        if divs_sum < i:\n",
        "            count_deficient_no += 1\n",
        "        elif divs_sum == i:\n",
        "            count_perfect_no += 1\n",
        "        else:\n",
        "            count_abundant_no += 1\n",
        "\n",
        "    print(\"Number Counting between {} and {}: \".format(start, end))\n",
        "    print(\"Deficient number: {}\".format(count_deficient_no))\n",
        "    print(\"Perfect number: {}\".format(count_perfect_no))\n",
        "    print(\"Abundant number: {}\".format(count_abundant_no))"
      ],
      "metadata": {
        "id": "lda4mRDKrQ3z"
      },
      "execution_count": 39,
      "outputs": []
    },
    {
      "cell_type": "code",
      "source": [
        "classify_numbers(1,10000)"
      ],
      "metadata": {
        "colab": {
          "base_uri": "https://localhost:8080/"
        },
        "id": "cDW1uknmVA7H",
        "outputId": "752c0a65-d3c4-4cd5-f972-0f3e7d5c156a"
      },
      "execution_count": 40,
      "outputs": [
        {
          "output_type": "stream",
          "name": "stdout",
          "text": [
            "Number Counting between 1 and 10000: \n",
            "Deficient number: 7508\n",
            "Perfect number: 4\n",
            "Abundant number: 2488\n"
          ]
        }
      ]
    },
    {
      "cell_type": "markdown",
      "source": [
        "78. Write a program to generate random integers in a specific range."
      ],
      "metadata": {
        "id": "aydF0s90mZOS"
      }
    },
    {
      "cell_type": "markdown",
      "source": [
        "79. Write a program to generate and show all Kaprekar numbers less than 1000."
      ],
      "metadata": {
        "id": "FERiMWE_mWFB"
      }
    },
    {
      "cell_type": "code",
      "source": [
        "def kaprekarNumber(n):\n",
        "    for i in range(1,n):\n",
        "        a=power(i,2)\n",
        "        if len(a)%2==0:\n",
        "            temp = a%power(10,len(a)//2)\n",
        "            a = a//power(10,len(a)//2)\n",
        "            if (temp+a)==i:\n",
        "                print(i,end=\" \")\n",
        "        else:\n",
        "            temp = a%power(10,len(a)//2 + 1)\n",
        "            a = a//power(10,len(a)//2 + 1)\n",
        "            if (temp+a)==i:\n",
        "                print(i,end=\" \")"
      ],
      "metadata": {
        "id": "WgtPnhi8VGL3"
      },
      "execution_count": 57,
      "outputs": []
    },
    {
      "cell_type": "code",
      "source": [
        "kaprekarNumber(1000)"
      ],
      "metadata": {
        "colab": {
          "base_uri": "https://localhost:8080/"
        },
        "id": "_m5vuCG6jw8n",
        "outputId": "fc67a47f-9239-48b7-de1f-928572d3e170"
      },
      "execution_count": 58,
      "outputs": [
        {
          "output_type": "stream",
          "name": "stdout",
          "text": [
            "1 9 45 55 99 297 703 999 "
          ]
        }
      ]
    },
    {
      "cell_type": "markdown",
      "source": [
        "80. Write a Java program to find the number of seed Lychrel number candidates and related numbers for n in the range 1..10000 inclusive."
      ],
      "metadata": {
        "id": "Q4d9eF2lmc1v"
      }
    },
    {
      "cell_type": "code",
      "source": [
        "def lychrelNumber(n):\n",
        "    for i in range(500):\n",
        "        n = n + int(reverseNumber(n));\n",
        "\n",
        "        if (isPalindrome(n)):\n",
        "            return False\n",
        "\n",
        "    return True"
      ],
      "metadata": {
        "id": "aMQ7HQ3GkQFg"
      },
      "execution_count": 64,
      "outputs": []
    },
    {
      "cell_type": "code",
      "source": [
        "lychrelNumber(196)"
      ],
      "metadata": {
        "colab": {
          "base_uri": "https://localhost:8080/"
        },
        "id": "yEOxg1Asn768",
        "outputId": "926d7379-f929-4fdb-eb31-c2c3a954c3ee"
      },
      "execution_count": 65,
      "outputs": [
        {
          "output_type": "execute_result",
          "data": {
            "text/plain": [
              "True"
            ]
          },
          "metadata": {},
          "execution_count": 65
        }
      ]
    },
    {
      "cell_type": "code",
      "source": [],
      "metadata": {
        "id": "c1yYn73Rn969"
      },
      "execution_count": null,
      "outputs": []
    }
  ]
}